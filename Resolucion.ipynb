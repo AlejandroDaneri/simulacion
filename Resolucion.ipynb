{
 "cells": [
  {
   "cell_type": "markdown",
   "id": "960282d6",
   "metadata": {},
   "source": [
    "##### Importacion de librerias"
   ]
  },
  {
   "cell_type": "code",
   "execution_count": 1,
   "id": "ec0a8dd9",
   "metadata": {},
   "outputs": [],
   "source": [
    "import time\n",
    "import numpy\n",
    "from matplotlib import pyplot as plt\n",
    "import seaborn as sns\n",
    "import numpy as np\n",
    "from scipy.stats import kstest, shapiro, norm, chi2, chi2_contingency, norm\n",
    "import pandas as pd\n",
    "import math\n",
    "import json\n",
    "import sklearn\n",
    "import collections\n",
    "from shapely.geometry import MultiPolygon, Polygon, Point\n",
    "sns.set_style(\"whitegrid\")\n",
    "plt.rcParams[\"figure.figsize\"] = (5,5)"
   ]
  },
  {
   "cell_type": "markdown",
   "id": "04f9b1c3",
   "metadata": {},
   "source": [
    "# Ejercicio 1"
   ]
  },
  {
   "cell_type": "markdown",
   "id": "c9c8e5dd",
   "metadata": {},
   "source": [
    "#### Generador XORShift"
   ]
  },
  {
   "cell_type": "code",
   "execution_count": 2,
   "id": "64b2378a",
   "metadata": {},
   "outputs": [],
   "source": [
    "class XORShiftGenerator:\n",
    "\n",
    "  PERIOD = 2**64\n",
    " \n",
    "  def __init__(self,external_seed):\n",
    "    self.seed = external_seed % self.PERIOD\n",
    "    \n",
    "  #funcion para generar un numero pseudo-aleatorio\n",
    "  def random(self):\n",
    "    seed_tuple = (23,13,58)\n",
    "    self.seed = (self.seed ^ (self.seed << seed_tuple[0])) % self.PERIOD\n",
    "    self.seed = (self.seed ^ (self.seed >> seed_tuple[1])) % self.PERIOD\n",
    "    self.seed = (self.seed ^ (self.seed << seed_tuple[2])) % self.PERIOD\n",
    "    return self.seed\n",
    " \n",
    "  #funcion para generar un numero pseudo-aleatorio entre 0 y 1\n",
    "  def uniform_random(self):\n",
    "    return self.random() / self.PERIOD\n",
    "\n",
    "  def generate_sample(self, n):\n",
    "    sample = []\n",
    "    for i in range(n):\n",
    "        sample.append(self.random())\n",
    "    return sample\n",
    "\n",
    "  def generate_uniform_sample(self, n):\n",
    "    sample = []\n",
    "    for i in range(n):\n",
    "        sample.append(self.uniform_random())\n",
    "    return sample"
   ]
  },
  {
   "cell_type": "markdown",
   "id": "8107c9d0",
   "metadata": {},
   "source": [
    "#### Generador GCL (Concruencial Lineal)"
   ]
  },
  {
   "cell_type": "code",
   "execution_count": 3,
   "id": "1ec5487a",
   "metadata": {},
   "outputs": [],
   "source": [
    "class GCL:\n",
    "    # datos provistos\n",
    "    \n",
    "    # modulo\n",
    "    m = 2**32\n",
    "    \n",
    "    # multiplicador\n",
    "    a = 1013904223\n",
    "\n",
    "    # incremento\n",
    "    c = 1664525\n",
    "    \n",
    "    def __init__(self,seed):\n",
    "        self.xn = seed\n",
    "        \n",
    "    def random(self):\n",
    "        self.xn = (self.xn*self.a + self.c) % self.m\n",
    "        return self.xn\n",
    "\n",
    "    def uniform_random(self):\n",
    "        return self.random() / self.m\n",
    "    \n",
    "    def generate_sample(self, n):\n",
    "        sample = []\n",
    "        for i in range(n):\n",
    "            sample.append(self.random())\n",
    "        return sample\n",
    "\n",
    "    def generate_uniform_sample(self, n):\n",
    "        sample = []\n",
    "        for i in range(n):\n",
    "            sample.append(self.uniform_random())\n",
    "        return sample"
   ]
  },
  {
   "cell_type": "code",
   "execution_count": 4,
   "id": "16d1bc36",
   "metadata": {},
   "outputs": [],
   "source": [
    "generator = XORShiftGenerator(int(time.time()))"
   ]
  },
  {
   "cell_type": "markdown",
   "id": "456e9af9",
   "metadata": {},
   "source": [
    "#### Muestra de 1000 numeros | XORShift"
   ]
  },
  {
   "cell_type": "code",
   "execution_count": 5,
   "id": "b6253098",
   "metadata": {},
   "outputs": [],
   "source": [
    "generatedX = generator.generate_sample(1000)\n",
    "generatedY = generator.generate_sample(1000)\n",
    "uniform_generatedX = generator.generate_uniform_sample(1000)\n",
    "uniform_generatedY = generator.generate_uniform_sample(1000)"
   ]
  },
  {
   "cell_type": "code",
   "execution_count": 6,
   "id": "4be87580",
   "metadata": {},
   "outputs": [
    {
     "data": {
      "text/plain": [
       "[14137260472689722993,\n",
       " 5737467582390508749,\n",
       " 14163761962075725161,\n",
       " 10056658381855440093,\n",
       " 7607943640809318216]"
      ]
     },
     "execution_count": 6,
     "metadata": {},
     "output_type": "execute_result"
    }
   ],
   "source": [
    "generatedX[0:5]"
   ]
  },
  {
   "cell_type": "code",
   "execution_count": 7,
   "id": "bbfca043",
   "metadata": {},
   "outputs": [
    {
     "data": {
      "text/plain": [
       "[0.084577496206947,\n",
       " 0.7175616855405261,\n",
       " 0.5217761195466311,\n",
       " 0.8640323363339691,\n",
       " 0.4557729099939403]"
      ]
     },
     "execution_count": 7,
     "metadata": {},
     "output_type": "execute_result"
    }
   ],
   "source": [
    "uniform_generatedX[0:5]"
   ]
  },
  {
   "cell_type": "markdown",
   "id": "bfc57aa2",
   "metadata": {},
   "source": [
    "#### Graficos de la muestra"
   ]
  },
  {
   "cell_type": "markdown",
   "id": "0cd0c490",
   "metadata": {},
   "source": [
    "Con este grafico facilmente se aprecia como es la distribucion de los valores generados. Vemos que no se presenta una acumulacion en un sector especifico, sino que estan bastante repartidos."
   ]
  },
  {
   "cell_type": "code",
   "execution_count": 8,
   "id": "2b439e4a",
   "metadata": {},
   "outputs": [
    {
     "data": {
      "image/png": "[encoded data removed]",
      "text/plain": [
       "<Figure size 360x360 with 1 Axes>"
      ]
     },
     "metadata": {},
     "output_type": "display_data"
    }
   ],
   "source": [
    "sns.scatterplot(x=generatedX, y=generatedY)\n",
    "plt.title(\"Numeros generados\")\n",
    "plt.xlabel(\"X\")\n",
    "plt.ylabel(\"Valor Generado\")\n",
    "plt.show()"
   ]
  },
  {
   "cell_type": "code",
   "execution_count": 9,
   "id": "8c587185",
   "metadata": {},
   "outputs": [
    {
     "data": {
      "image/png": "[encoded data removed]",
      "text/plain": [
       "<Figure size 360x360 with 1 Axes>"
      ]
     },
     "metadata": {},
     "output_type": "display_data"
    }
   ],
   "source": [
    "sns.scatterplot(x=uniform_generatedX, y=uniform_generatedY)\n",
    "plt.title(\"Numeros generados\")\n",
    "plt.xlabel(\"X\")\n",
    "plt.ylabel(\"Valor Generado\")\n",
    "plt.show()"
   ]
  },
  {
   "cell_type": "markdown",
   "id": "6c2f2a53",
   "metadata": {},
   "source": [
    "Si contabilizamos entonces cuantos puntos caen en cada intervalo, vemos que no se presentan grandes diferencias en cada uno de ellos."
   ]
  },
  {
   "cell_type": "code",
   "execution_count": 10,
   "id": "39e835a4",
   "metadata": {},
   "outputs": [
    {
     "data": {
      "image/png": "[encoded data removed]",
      "text/plain": [
       "<Figure size 360x360 with 1 Axes>"
      ]
     },
     "metadata": {},
     "output_type": "display_data"
    }
   ],
   "source": [
    "plt.hist(generatedX,bins=20)\n",
    "plt.axhline(\n",
    "    y=1000 / 20,\n",
    "    color=\"r\",\n",
    "    linestyle=\"--\",\n",
    "    label=\"Distribucion esperada (si fuese uniforme)\",\n",
    ")\n",
    "plt.title('Frecuencia relativa')\n",
    "plt.xlabel(\"X\")\n",
    "plt.ylabel(\"Numero de apariciones\")\n",
    "\n",
    "plt.legend()\n",
    "plt.show()"
   ]
  },
  {
   "cell_type": "code",
   "execution_count": 11,
   "id": "96399ba3",
   "metadata": {},
   "outputs": [
    {
     "data": {
      "image/png": "[encoded data removed]",
      "text/plain": [
       "<Figure size 360x360 with 1 Axes>"
      ]
     },
     "metadata": {},
     "output_type": "display_data"
    }
   ],
   "source": [
    "plt.hist(uniform_generatedX,bins=20)\n",
    "plt.title('Frecuencia relativa')\n",
    "plt.ylabel(\"Numero de apariciones\")\n",
    "plt.xlabel(\"X\")\n",
    "plt.axhline(\n",
    "    y=1000 / 20,\n",
    "    xmin=0,\n",
    "    xmax=1,\n",
    "    color=\"r\",\n",
    "    linestyle=\"--\",\n",
    "    label=\"Distribucion esperada\",\n",
    ")\n",
    "plt.legend()\n",
    "plt.show()"
   ]
  },
  {
   "cell_type": "code",
   "execution_count": 12,
   "id": "30698098",
   "metadata": {},
   "outputs": [],
   "source": [
    "# parte entera del promedio de los padrones\n",
    "seed = int((99289 + 96453 + 100853 + 97839 )/4)\n",
    "gcl_generator = GCL(seed) "
   ]
  },
  {
   "cell_type": "markdown",
   "id": "2b021e6a",
   "metadata": {},
   "source": [
    "#### Muestra de 1000 numeros | GCL "
   ]
  },
  {
   "cell_type": "code",
   "execution_count": 13,
   "id": "19ed62c4",
   "metadata": {},
   "outputs": [],
   "source": [
    "gcl_generated = []\n",
    "gcl_uniform_generated = []\n",
    "for i in range(1000):\n",
    "    gcl_generated.append(gcl_generator.random())\n",
    "    gcl_uniform_generated.append(gcl_generator.uniform_random())"
   ]
  },
  {
   "cell_type": "markdown",
   "id": "cf6e4406",
   "metadata": {},
   "source": [
    "#### Graficos de la muestra"
   ]
  },
  {
   "cell_type": "markdown",
   "id": "547df8c1",
   "metadata": {},
   "source": [
    "Vemos rapidamente con el scatterplot que la densidad de puntos se expresa de la misma manera en ambos generadores."
   ]
  },
  {
   "cell_type": "code",
   "execution_count": 14,
   "id": "5aed2122",
   "metadata": {},
   "outputs": [
    {
     "data": {
      "image/png": "[encoded data removed]",
      "text/plain": [
       "<Figure size 360x360 with 1 Axes>"
      ]
     },
     "metadata": {},
     "output_type": "display_data"
    },
    {
     "data": {
      "image/png": "[encoded data removed]",
      "text/plain": [
       "<Figure size 360x360 with 1 Axes>"
      ]
     },
     "metadata": {},
     "output_type": "display_data"
    },
    {
     "data": {
      "image/png": "[encoded data removed]",
      "text/plain": [
       "<Figure size 360x360 with 1 Axes>"
      ]
     },
     "metadata": {},
     "output_type": "display_data"
    },
    {
     "data": {
      "image/png": "[encoded data removed]",
      "text/plain": [
       "<Figure size 360x360 with 1 Axes>"
      ]
     },
     "metadata": {},
     "output_type": "display_data"
    }
   ],
   "source": [
    "sns.scatterplot(data=uniform_generatedX)\n",
    "plt.title('Números generados XORShift')\n",
    "plt.xlabel(\"X\")\n",
    "plt.ylabel(\"Valores Generados\")\n",
    "plt.show()\n",
    "\n",
    "sns.scatterplot(data=gcl_uniform_generated)\n",
    "plt.title('Números generados GCL')\n",
    "plt.xlabel(\"X\")\n",
    "plt.ylabel(\"Valores Generados\")\n",
    "plt.show()\n",
    "\n",
    "plt.hist(generatedX,bins=20)\n",
    "plt.title('Frecuencia relativa XORShift')\n",
    "plt.xlabel(\"X\")\n",
    "plt.ylabel(\"Numero de apariciones\")\n",
    "plt.axhline(\n",
    "    y=1000 / 20,\n",
    "    xmin=0,\n",
    "    xmax=1,\n",
    "    color=\"r\",\n",
    "    linestyle=\"--\",\n",
    "    label=\"Distribucion esperada\",\n",
    ")\n",
    "plt.legend()\n",
    "plt.show()\n",
    "\n",
    "plt.hist(gcl_generated,bins=20)\n",
    "plt.title('Frecuencia relativa GCL')\n",
    "plt.xlabel(\"X\")\n",
    "plt.ylabel(\"Numero de apariciones\")\n",
    "plt.axhline(\n",
    "    y=1000 / 20,\n",
    "    xmin=0,\n",
    "    xmax=1,\n",
    "    color=\"r\",\n",
    "    linestyle=\"--\",\n",
    "    label=\"Distribucion esperada\",\n",
    ")\n",
    "plt.legend()\n",
    "plt.show()"
   ]
  },
  {
   "cell_type": "markdown",
   "id": "96cb5ac8",
   "metadata": {},
   "source": [
    "# Ejercicio 2"
   ]
  },
  {
   "cell_type": "markdown",
   "id": "ac7fd08d",
   "metadata": {},
   "source": [
    "### Test de Kolmogorov | XORShift"
   ]
  },
  {
   "cell_type": "code",
   "execution_count": 15,
   "id": "13249bb8",
   "metadata": {},
   "outputs": [],
   "source": [
    "generator = XORShiftGenerator(int(time.time()))"
   ]
  },
  {
   "cell_type": "code",
   "execution_count": 16,
   "id": "ea394392",
   "metadata": {},
   "outputs": [],
   "source": [
    "def kolmorogov_test(sample):\n",
    "    tested = kstest(sample, 'uniform')\n",
    "    if tested[1] >= 0.05:\n",
    "        print(\"El test acepta la hipotesis nula.\")\n",
    "    else:\n",
    "        print(\"El test rechaza la hipótesis nula\")\n",
    "    print(\"Estadistico: {:.4f} \".format(tested[0]))\n",
    "    print(\"P Valor: {:.4f} \".format(tested[1]))"
   ]
  },
  {
   "cell_type": "code",
   "execution_count": 17,
   "id": "cc86e9bd",
   "metadata": {},
   "outputs": [
    {
     "name": "stdout",
     "output_type": "stream",
     "text": [
      "El test acepta la hipotesis nula.\n",
      "Estadistico: 0.0063 \n",
      "P Valor: 0.8252 \n"
     ]
    }
   ],
   "source": [
    "big_sample = generator.generate_uniform_sample(10000)\n",
    "kolmorogov_test(big_sample)"
   ]
  },
  {
   "cell_type": "code",
   "execution_count": 18,
   "id": "053720aa",
   "metadata": {},
   "outputs": [
    {
     "name": "stdout",
     "output_type": "stream",
     "text": [
      "El test acepta la hipotesis nula.\n",
      "Estadistico: 0.0184 \n",
      "P Valor: 0.8807 \n"
     ]
    }
   ],
   "source": [
    "small_sample = generator.generate_uniform_sample(1000)\n",
    "kolmorogov_test(small_sample)"
   ]
  },
  {
   "cell_type": "markdown",
   "id": "15dd427d",
   "metadata": {},
   "source": [
    "###  Test de Kolmogorov | GCL"
   ]
  },
  {
   "cell_type": "code",
   "execution_count": 19,
   "id": "bbf503fb",
   "metadata": {},
   "outputs": [],
   "source": [
    "generator = GCL(int(time.time()))"
   ]
  },
  {
   "cell_type": "code",
   "execution_count": 20,
   "id": "89823fac",
   "metadata": {},
   "outputs": [
    {
     "name": "stdout",
     "output_type": "stream",
     "text": [
      "El test acepta la hipotesis nula.\n",
      "Estadistico: 0.0069 \n",
      "P Valor: 0.7220 \n"
     ]
    }
   ],
   "source": [
    "gcl_big_sample = generator.generate_uniform_sample(10000)\n",
    "kolmorogov_test(gcl_big_sample)"
   ]
  },
  {
   "cell_type": "code",
   "execution_count": 21,
   "id": "3d9cb428",
   "metadata": {},
   "outputs": [
    {
     "name": "stdout",
     "output_type": "stream",
     "text": [
      "El test acepta la hipotesis nula.\n",
      "Estadistico: 0.0173 \n",
      "P Valor: 0.9211 \n"
     ]
    }
   ],
   "source": [
    "gcl_small_sample = generator.generate_uniform_sample(1000)\n",
    "kolmorogov_test(gcl_small_sample)"
   ]
  },
  {
   "cell_type": "markdown",
   "id": "65738d34",
   "metadata": {},
   "source": [
    "### Test Chi-Cuadrado | XORShift"
   ]
  },
  {
   "cell_type": "code",
   "execution_count": 22,
   "id": "897e9445",
   "metadata": {},
   "outputs": [
    {
     "data": {
      "text/plain": [
       "'[0.23513242585326385, 0.3265354852531615, 0.12705387353727324, 0.55982372457215, 0.5667292118092508]...'"
      ]
     },
     "execution_count": 22,
     "metadata": {},
     "output_type": "execute_result"
    }
   ],
   "source": [
    "generator = XORShiftGenerator(int(time.time()))\n",
    "\n",
    "n1 = 10000\n",
    "n2 = 1000\n",
    "k = 10\n",
    "p = 1/k\n",
    "\n",
    "sample = generator.generate_uniform_sample(n1)\n",
    "sample2 = generator.generate_uniform_sample(n2)\n",
    "\n",
    "str(sample[0:5]) + '...'"
   ]
  },
  {
   "cell_type": "markdown",
   "id": "ecc00905",
   "metadata": {},
   "source": [
    "#### Discretisacion de la muestra"
   ]
  },
  {
   "cell_type": "code",
   "execution_count": 23,
   "id": "c87c0432",
   "metadata": {},
   "outputs": [],
   "source": [
    "def in_range(value, start, end):\n",
    "    return value > start and value <= end\n",
    "        \n",
    "def mapper(value):\n",
    "    if in_range(value, 0, 0.1): return 1\n",
    "    if in_range(value, 0.1, 0.2): return 2\n",
    "    if in_range(value, 0.2, 0.3): return 3\n",
    "    if in_range(value, 0.3, 0.4): return 4\n",
    "    if in_range(value, 0.4, 0.5): return 5\n",
    "    if in_range(value, 0.5, 0.6): return 6\n",
    "    if in_range(value, 0.6, 0.7): return 7\n",
    "    if in_range(value, 0.7, 0.8): return 8\n",
    "    if in_range(value, 0.8, 0.9): return 9\n",
    "    if in_range(value, 0.9, 1.0): return 10\n",
    "    \n",
    "    raise Exception(\"numer generated is invalid\")\n",
    "    \n",
    "def frecuency_sum(values):\n",
    "    elements_count = collections.Counter(values)\n",
    "    count = []\n",
    "    for key, value in elements_count.items():\n",
    "       count.insert(key, value)\n",
    "    return count"
   ]
  },
  {
   "cell_type": "code",
   "execution_count": 24,
   "id": "09859658",
   "metadata": {},
   "outputs": [
    {
     "data": {
      "text/plain": [
       "'[3, 4, 2, 6, 6]...'"
      ]
     },
     "execution_count": 24,
     "metadata": {},
     "output_type": "execute_result"
    }
   ],
   "source": [
    "mapped_values = list(map(lambda value: mapper(value), sample))\n",
    "mapped_values2 = list(map(lambda value: mapper(value), sample2))\n",
    "str(mapped_values[0:5]) + '...'"
   ]
  },
  {
   "cell_type": "code",
   "execution_count": 25,
   "id": "104c8a08",
   "metadata": {},
   "outputs": [
    {
     "data": {
      "text/plain": [
       "[957, 1047, 998, 973, 994, 1011, 993, 1047, 1000, 980]"
      ]
     },
     "execution_count": 25,
     "metadata": {},
     "output_type": "execute_result"
    }
   ],
   "source": [
    "frecuencies = frecuency_sum(mapped_values)\n",
    "frecuencies2 = frecuency_sum(mapped_values2)\n",
    "frecuencies"
   ]
  },
  {
   "cell_type": "code",
   "execution_count": 26,
   "id": "287c27d9",
   "metadata": {},
   "outputs": [
    {
     "data": {
      "image/png": "[encoded data removed]",
      "text/plain": [
       "<Figure size 360x360 with 1 Axes>"
      ]
     },
     "metadata": {},
     "output_type": "display_data"
    }
   ],
   "source": [
    "plt.hist(mapped_values, bins=k)\n",
    "plt.title('Frecuencia relativa')\n",
    "plt.xlabel(\"X\")\n",
    "plt.ylabel(\"Numero de apariciones\")\n",
    "plt.show()"
   ]
  },
  {
   "cell_type": "markdown",
   "id": "de3a5a4a",
   "metadata": {},
   "source": [
    "#### Dispercion"
   ]
  },
  {
   "cell_type": "markdown",
   "id": "38192ae8",
   "metadata": {},
   "source": [
    "##### Frecuencias Actuales"
   ]
  },
  {
   "cell_type": "code",
   "execution_count": 27,
   "id": "002d9f49",
   "metadata": {},
   "outputs": [
    {
     "data": {
      "text/plain": [
       "[957, 1047, 998, 973, 994, 1011, 993, 1047, 1000, 980]"
      ]
     },
     "execution_count": 27,
     "metadata": {},
     "output_type": "execute_result"
    }
   ],
   "source": [
    "frecuencies"
   ]
  },
  {
   "cell_type": "markdown",
   "id": "273f026e",
   "metadata": {},
   "source": [
    "##### Frecuencias Esperadas"
   ]
  },
  {
   "cell_type": "code",
   "execution_count": 28,
   "id": "8ba0e21f",
   "metadata": {},
   "outputs": [
    {
     "data": {
      "text/plain": [
       "[1000, 1000, 1000, 1000, 1000, 1000, 1000, 1000, 1000, 1000]"
      ]
     },
     "execution_count": 28,
     "metadata": {},
     "output_type": "execute_result"
    }
   ],
   "source": [
    "f_e = int(n1 * p)\n",
    "f_e2 = int(n2 * p)\n",
    "[f_e, f_e, f_e, f_e, f_e, f_e, f_e, f_e, f_e, f_e]"
   ]
  },
  {
   "cell_type": "markdown",
   "id": "752306b3",
   "metadata": {},
   "source": [
    "Calculemos la dispercion:"
   ]
  },
  {
   "cell_type": "markdown",
   "id": "a712f1f9",
   "metadata": {},
   "source": [
    "\\begin{equation}\n",
    "D^2 =\\sum_{i=1}^K \\frac{(N_i - n p_i) ^2}{n p_i}\n",
    "\\end{equation}"
   ]
  },
  {
   "cell_type": "code",
   "execution_count": 29,
   "id": "b44b70b2",
   "metadata": {},
   "outputs": [],
   "source": [
    "def dispersion(n, p, frecuencies):\n",
    "    k = len(frecuencies)\n",
    "    \n",
    "    sum_ = 0\n",
    "    \n",
    "    for i in range(k):\n",
    "        dispercion_i = (frecuencies[i] - n * p) ** 2\n",
    "        \n",
    "        print(\"dispersion (i = {}): {}\".format(i, dispercion_i))\n",
    "        \n",
    "        sum_ = sum_ + dispercion_i / (n * p)\n",
    "    \n",
    "    return sum_"
   ]
  },
  {
   "cell_type": "code",
   "execution_count": 30,
   "id": "68083cd0",
   "metadata": {},
   "outputs": [],
   "source": [
    "def test_chi2(frecuencies, k):\n",
    "    limite_superior = chi2.ppf(0.95, df=k-1)\n",
    "    d2 = dispersion(n, 1/k, frecuencies)\n",
    "    print(d2, limite_superior)\n",
    "    if d2 < limite_superior:\n",
    "\n",
    "        print(\"El test acepta la hipotesis nula\")\n",
    "    else:\n",
    "        print(\"El test rechaza la hipotesis nula\")"
   ]
  },
  {
   "cell_type": "code",
   "execution_count": 31,
   "id": "00868ef7",
   "metadata": {},
   "outputs": [
    {
     "ename": "NameError",
     "evalue": "name 'n' is not defined",
     "output_type": "error",
     "traceback": [
      "\u001b[0;31m---------------------------------------------------------------------------\u001b[0m",
      "\u001b[0;31mNameError\u001b[0m                                 Traceback (most recent call last)",
      "Input \u001b[0;32mIn [31]\u001b[0m, in \u001b[0;36m<cell line: 1>\u001b[0;34m()\u001b[0m\n\u001b[0;32m----> 1\u001b[0m \u001b[43mtest_chi2\u001b[49m\u001b[43m(\u001b[49m\u001b[43mfrecuencies\u001b[49m\u001b[43m,\u001b[49m\u001b[43m \u001b[49m\u001b[43mk\u001b[49m\u001b[43m)\u001b[49m\n",
      "Input \u001b[0;32mIn [30]\u001b[0m, in \u001b[0;36mtest_chi2\u001b[0;34m(frecuencies, k)\u001b[0m\n\u001b[1;32m      1\u001b[0m \u001b[38;5;28;01mdef\u001b[39;00m \u001b[38;5;21mtest_chi2\u001b[39m(frecuencies, k):\n\u001b[1;32m      2\u001b[0m     limite_superior \u001b[38;5;241m=\u001b[39m chi2\u001b[38;5;241m.\u001b[39mppf(\u001b[38;5;241m0.95\u001b[39m, df\u001b[38;5;241m=\u001b[39mk\u001b[38;5;241m-\u001b[39m\u001b[38;5;241m1\u001b[39m)\n\u001b[0;32m----> 3\u001b[0m     d2 \u001b[38;5;241m=\u001b[39m dispercion(\u001b[43mn\u001b[49m, \u001b[38;5;241m1\u001b[39m\u001b[38;5;241m/\u001b[39mk, frecuencies)\n\u001b[1;32m      4\u001b[0m     \u001b[38;5;28mprint\u001b[39m(d2, limite_superior)\n\u001b[1;32m      5\u001b[0m     \u001b[38;5;28;01mif\u001b[39;00m d2 \u001b[38;5;241m<\u001b[39m limite_superior:\n",
      "\u001b[0;31mNameError\u001b[0m: name 'n' is not defined"
     ]
    }
   ],
   "source": [
    "test_chi2(frecuencies, k)"
   ]
  },
  {
   "cell_type": "markdown",
   "id": "5a8b349c",
   "metadata": {},
   "source": [
    "### Test Chi-Cuadrado | GCL"
   ]
  },
  {
   "cell_type": "code",
   "execution_count": null,
   "id": "eea24437",
   "metadata": {},
   "outputs": [],
   "source": [
    "generator = GCL(int(time.time()))\n",
    "sample_gcl = generator.generate_uniform_sample(n)\n",
    "str(sample_gcl[0:5]) + '...'"
   ]
  },
  {
   "cell_type": "code",
   "execution_count": null,
   "id": "0a54944c",
   "metadata": {},
   "outputs": [],
   "source": [
    "mapped_values_gcl = list(map(lambda value: mapper(value), sample_gcl))\n",
    "str(mapped_values_gcl[0:5]) + '...'"
   ]
  },
  {
   "cell_type": "code",
   "execution_count": null,
   "id": "85972c72",
   "metadata": {},
   "outputs": [],
   "source": [
    "frecuencies = frecuency_sum(mapped_values)\n",
    "frecuencies"
   ]
  },
  {
   "cell_type": "code",
   "execution_count": null,
   "id": "6970ec9d",
   "metadata": {},
   "outputs": [],
   "source": [
    "plt.hist(mapped_values, bins=k)\n",
    "plt.title('Frecuencia relativa')\n",
    "plt.xlabel(\"X\")\n",
    "plt.ylabel(\"Numero de apariciones\")\n",
    "plt.show()"
   ]
  },
  {
   "cell_type": "code",
   "execution_count": null,
   "id": "593c0255",
   "metadata": {},
   "outputs": [],
   "source": [
    "test_chi2(frecuencies, k)"
   ]
  },
  {
   "cell_type": "code",
   "execution_count": null,
   "id": "ca974dc0",
   "metadata": {},
   "outputs": [],
   "source": [
    "test_chi2(frecuencies2, k)"
   ]
  },
  {
   "cell_type": "markdown",
   "id": "9be7cf83",
   "metadata": {},
   "source": [
    "### Test de independencia Bernoulli | XORShift"
   ]
  },
  {
   "cell_type": "code",
   "execution_count": null,
   "id": "6f2f1b5a",
   "metadata": {},
   "outputs": [],
   "source": [
    "m=6\n",
    "\n",
    "def generate_matrix(generator):\n",
    "    population = []\n",
    "    for i in range(0,5):\n",
    "        nros = generator.generate_uniform_sample(m)\n",
    "        frecuencias=numpy.histogram(nros, bins=[0, 0.5, 1])\n",
    "        population.append(frecuencias[0])\n",
    "    \n",
    "    return population\n",
    "    \n",
    "generator = XORShiftGenerator(int(time.time()))\n",
    "population = generate_matrix(generator)\n",
    "\n",
    "\n",
    "D2, p, dof, ex = chi2_contingency(numpy.array(population))\n",
    "\n",
    "limiteSuperior = chi2.ppf(0.95, df=dof)\n",
    "\n",
    "df = pd.DataFrame(numpy.array(population), columns=['Sale 0', 'Sale 1'])\n",
    "\n",
    "\n",
    "print(\"Limite superior: {:.2f} \".format(limiteSuperior))\n",
    "print(\"Estadistico: {:.2f} \".format(D2))\n",
    "print(\"Tabla de frecuencias: \\n{}\".format(df))\n",
    "\n",
    "if D2 < limiteSuperior:\n",
    "    print(\"\\nEl test acepta la hipotesis nula\")\n",
    "else:\n",
    "    print(\"\\nEl test rechaza la hipotesis nula\")\n"
   ]
  },
  {
   "cell_type": "markdown",
   "id": "3610d012",
   "metadata": {},
   "source": [
    "### Test de independencia Bernoulli | GCL"
   ]
  },
  {
   "cell_type": "code",
   "execution_count": null,
   "id": "a51171cc",
   "metadata": {},
   "outputs": [],
   "source": [
    "\n",
    "\n",
    "generator = GCL(int(time.time()))\n",
    "population = generate_matrix(generator)\n",
    "\n",
    "\n",
    "D2, p, dof, ex = chi2_contingency(numpy.array(population))\n",
    "\n",
    "limiteSuperior = chi2.ppf(0.95, df=dof)\n",
    "\n",
    "df = pd.DataFrame(numpy.array(population), columns=['Sale 0', 'Sale 1'])\n",
    "\n",
    "\n",
    "print(\"Limite superior: {:.2f} \".format(limiteSuperior))\n",
    "print(\"Estadistico: {:.2f} \".format(D2))\n",
    "print(\"Tabla de frecuencias: \\n{}\".format(df))\n",
    "\n",
    "if D2 < limiteSuperior:\n",
    "    print(\"\\nEl test acepta la hipotesis nula\")\n",
    "else:\n",
    "    print(\"\\nEl test rechaza la hipotesis nula\")"
   ]
  },
  {
   "cell_type": "markdown",
   "id": "417e0526",
   "metadata": {
    "tags": []
   },
   "source": [
    "# Ejercicio 3"
   ]
  },
  {
   "cell_type": "code",
   "execution_count": null,
   "id": "d13bf653",
   "metadata": {},
   "outputs": [],
   "source": [
    "# genexp genera un valor de una variable Exp(lamda) utilizando equivalencia de eventos contra una uniforme (0,1)\n",
    "# ver: pag.4 de https://campusgrado.fi.uba.ar/pluginfile.php/29915/mod_page/content/419/Te%C3%B3rica%204%20Generaci%C3%B3n%20de%20variables%20continuas%20y%20discretas.pdf\n",
    "def genexp(u, lam=1):\n",
    "    return -np.log(1-u) / lam # transformacion inversa"
   ]
  },
  {
   "cell_type": "code",
   "execution_count": null,
   "id": "5fe5d4e6",
   "metadata": {},
   "outputs": [],
   "source": [
    "# exponential normal probabilistic density function\n",
    "def normalpdf(x, mu=0, sigma=1):\n",
    "    var = np.square(sigma)\n",
    "    return np.exp(-np.square(x - mu) / (2 * var)) / np.sqrt(2 * np.pi * var)\n",
    "\n",
    "# exponential probabilistic density function\n",
    "def exppdf(x, lam=1):\n",
    "    return lam * np.exp(-lam * x)\n",
    "\n",
    "# gennorm genera valores de una normal de media \"mu\" y desviación \"sigma\", utilizando un metodo de aceptación rechazo contra una variable Exp(1)\n",
    "# ver: pag.9 de https://campusgrado.fi.uba.ar/pluginfile.php/29915/mod_page/content/419/Te%C3%B3rica%204%20Generaci%C3%B3n%20de%20variables%20continuas%20y%20discretas.pdf\n",
    "def gennorm(generator, N, mu=0, sigma=1):\n",
    "    t = np.array([genexp(gen.uniform_random()) for _ in range(N)])\n",
    "    c = np.sqrt(2 * np.e / np.pi)\n",
    "\n",
    "    # probabilidad de aceptar\n",
    "    p = normalpdf(t) / (c * exppdf(t))\n",
    "\n",
    "    z = np.array([])\n",
    "    for i in range(N):\n",
    "        if generator.uniform_random() < p[i]:\n",
    "            r2 = generator.uniform_random()\n",
    "            val = t[i] if r2 < 0.5 else -t[i]\n",
    "            z = np.concatenate((z, [sigma * val + mu]))\n",
    "\n",
    "    return z"
   ]
  },
  {
   "cell_type": "markdown",
   "id": "a835a186",
   "metadata": {},
   "source": [
    "## Generado con XorShift"
   ]
  },
  {
   "cell_type": "code",
   "execution_count": null,
   "id": "1783bfc7",
   "metadata": {},
   "outputs": [],
   "source": [
    "# Generamos una muestra de N=50000 y graficamos el histograma\n",
    "N=50000\n",
    "gen = XORShiftGenerator(int(time.time()))\n",
    "\n",
    "mu = 2.0\n",
    "sigma = 10.0\n",
    "\n",
    "data = gennorm(gen, N, mu, sigma)\n",
    "\n",
    "print(\"Eficiencia {:f}\".format(len(data)/N))\n",
    "\n",
    "x = np.linspace(mu - 3*sigma, mu + 3*sigma, 100)\n",
    "plt.hist(data, density=True, bins=200)\n",
    "plt.plot(x, norm.pdf(x, mu, sigma))\n",
    "plt.xlabel(\"Valor\")\n",
    "plt.ylabel(\"Probilidad\")"
   ]
  },
  {
   "cell_type": "markdown",
   "id": "27497a40",
   "metadata": {},
   "source": [
    "## Generado con GCL"
   ]
  },
  {
   "cell_type": "code",
   "execution_count": null,
   "id": "aabf5253",
   "metadata": {},
   "outputs": [],
   "source": [
    "# Generamos una muestra de N=50000 y graficamos el histograma\n",
    "N=50000\n",
    "gen = GCL(int(time.time()))\n",
    "\n",
    "mu = 2.0\n",
    "sigma = 10.0\n",
    "\n",
    "data = gennorm(gen, N, mu, sigma)\n",
    "\n",
    "print(\"Eficiencia {:f}\".format(len(data)/N))\n",
    "\n",
    "x = np.linspace(mu - 3*sigma, mu + 3*sigma, 100)\n",
    "plt.hist(data, density=True, bins=200)\n",
    "plt.plot(x, norm.pdf(x, mu, sigma))\n",
    "plt.xlabel(\"Valor\")\n",
    "plt.ylabel(\"Probilidad\")\n"
   ]
  },
  {
   "cell_type": "markdown",
   "id": "e251ad59",
   "metadata": {},
   "source": [
    "## Tests Estadísticos"
   ]
  },
  {
   "cell_type": "code",
   "execution_count": null,
   "id": "7ed2c849",
   "metadata": {},
   "outputs": [],
   "source": [
    "def cdf(x):\n",
    "    return norm.cdf(x, loc=mu, scale=sigma)\n",
    "\n",
    "alfa = 0.05"
   ]
  },
  {
   "cell_type": "markdown",
   "id": "82a8833b",
   "metadata": {},
   "source": [
    "### Test 1: Kolmogorov-Smirnov"
   ]
  },
  {
   "cell_type": "code",
   "execution_count": null,
   "id": "07a3be1e",
   "metadata": {},
   "outputs": [],
   "source": [
    "K, pv = kstest(data, cdf)\n",
    "\n",
    "print(\"K = %f, p-val = %f\" % (K, pv))\n",
    "print(\"Existe evidencia para rechazar que los datos no siguen una distribución normal (2,10)\" if pv < alfa else \"No existe evidencia para afirmar que los datos no se distribuyen de forma normal (2, 10)\")"
   ]
  },
  {
   "cell_type": "markdown",
   "id": "652777fe",
   "metadata": {},
   "source": [
    "### Test 2: Shapiro-Wilk"
   ]
  },
  {
   "cell_type": "code",
   "execution_count": null,
   "id": "3dec5d55",
   "metadata": {},
   "outputs": [],
   "source": [
    "sorted_data = np.sort(data)\n",
    "\n",
    "S, pv = shapiro(sorted_data)\n",
    "\n",
    "print(\"S = %f, p-val = %f\" % (S, pv))\n",
    "print(\"Existe evidencia para rechazar que los datos no siguen una distribución normal (2,10)\" if pv < alfa else \"No existe evidencia para afirmar que los datos no se distribuyen de forma normal (2, 10)\")"
   ]
  },
  {
   "cell_type": "markdown",
   "id": "0e535aa1",
   "metadata": {},
   "source": [
    "# Ejercicio 4"
   ]
  },
  {
   "cell_type": "markdown",
   "id": "15db5c1c",
   "metadata": {},
   "source": [
    "La llegada de vehiculos a un estacionamiento sigue un proceso de Poisson de tasa lamda vehiculos/hora."
   ]
  },
  {
   "cell_type": "code",
   "execution_count": null,
   "id": "6f1d2c44",
   "metadata": {},
   "outputs": [],
   "source": [
    "tiempo_entre_arribos = pd.read_csv('tiempos_entre_arribos.txt', header=None)"
   ]
  },
  {
   "cell_type": "code",
   "execution_count": null,
   "id": "89bcf84f",
   "metadata": {},
   "outputs": [],
   "source": [
    "tiempo_entre_arribos"
   ]
  },
  {
   "cell_type": "markdown",
   "id": "b0a03457",
   "metadata": {},
   "source": [
    "### Estimacion de la tasa de arribos"
   ]
  },
  {
   "cell_type": "code",
   "execution_count": null,
   "id": "58d51abf",
   "metadata": {},
   "outputs": [],
   "source": [
    "cantidad_arribos = len(tiempo_entre_arribos)\n",
    "cantidad_arribos"
   ]
  },
  {
   "cell_type": "code",
   "execution_count": null,
   "id": "baa1facd",
   "metadata": {},
   "outputs": [],
   "source": [
    "tiempo_total = tiempo_entre_arribos[0].sum()\n",
    "tiempo_total"
   ]
  },
  {
   "cell_type": "code",
   "execution_count": null,
   "id": "8cb032b5",
   "metadata": {},
   "outputs": [],
   "source": [
    "lambda_ = cantidad_arribos / tiempo_total\n",
    "print(\"Tasa de arribos: {} por hora\".format(lambda_))"
   ]
  },
  {
   "cell_type": "markdown",
   "id": "cca00073",
   "metadata": {},
   "source": [
    "### Simulacion de llegada de vehiculos con generador | XORShift"
   ]
  },
  {
   "cell_type": "markdown",
   "id": "07312725",
   "metadata": {},
   "source": [
    "Un proceso de Poisson, tiene la caracteristica de que el tiempo entre arribos sigue una distribucion exponencial."
   ]
  },
  {
   "cell_type": "code",
   "execution_count": null,
   "id": "c0926b59",
   "metadata": {},
   "outputs": [],
   "source": [
    "generator = GCL(int(time.time()))\n",
    "\n",
    "# arribos\n",
    "arribos = []\n",
    "\n",
    "arribo = 0\n",
    "\n",
    "# 1 mes en horas\n",
    "mes = 24 * 30\n",
    "\n",
    "while arribo < mes:\n",
    "    # exponencial a partir del generador GCL\n",
    "    z = genexp(generator.uniform_random(), 1/lambda_)\n",
    "    arribo = arribo + z\n",
    "    arribos.append(arribo)"
   ]
  },
  {
   "cell_type": "code",
   "execution_count": null,
   "id": "f1162426",
   "metadata": {},
   "outputs": [],
   "source": [
    "print(\"Cantidad de arribos en un mes: {}\".format(len(arribos))) "
   ]
  },
  {
   "cell_type": "code",
   "execution_count": null,
   "id": "c7645ae4",
   "metadata": {},
   "outputs": [],
   "source": [
    "plt.step(arribos[0:10], range(10))\n",
    "plt.xlabel('Tiempo (horas)')\n",
    "plt.ylabel('Cantidad de Arribos')\n",
    "plt.show()"
   ]
  },
  {
   "cell_type": "code",
   "execution_count": null,
   "id": "4b65fd53",
   "metadata": {},
   "outputs": [],
   "source": [
    "plt.step(arribos, range(len(arribos)))\n",
    "plt.xlabel('Tiempo (horas)')\n",
    "plt.ylabel('Cantidad de Arribos')\n",
    "plt.show()"
   ]
  },
  {
   "cell_type": "markdown",
   "id": "c1302f42",
   "metadata": {},
   "source": [
    "### Generacion 1000 arribos con el proceso de Poisson"
   ]
  },
  {
   "cell_type": "code",
   "execution_count": null,
   "id": "7a270252",
   "metadata": {},
   "outputs": [],
   "source": [
    "# cantidad de arribos\n",
    "n = 1000\n",
    "\n",
    "# arribos\n",
    "arribos = []\n",
    "\n",
    "arribo = 0\n",
    "\n",
    "for i in range(n):\n",
    "    z = np.random.exponential(1/lambda_)\n",
    "    arribo = arribo + z\n",
    "    arribos.append(arribo)"
   ]
  },
  {
   "cell_type": "code",
   "execution_count": null,
   "id": "515adcf5",
   "metadata": {},
   "outputs": [],
   "source": [
    "arribos[0:5]"
   ]
  },
  {
   "cell_type": "markdown",
   "id": "05f1d3c1",
   "metadata": {},
   "source": [
    "#### Probabilidad de n arribos en un intervalo de tiempo"
   ]
  },
  {
   "cell_type": "markdown",
   "id": "bdfbc1ff",
   "metadata": {},
   "source": [
    "\\begin{equation}\n",
    "P(N_{(s,t]}=x) = \\frac{e^{-\\lambda (t-s)} (\\lambda (t-s))^x }{x!}\n",
    "\\end{equation}"
   ]
  },
  {
   "cell_type": "code",
   "execution_count": null,
   "id": "bf927873",
   "metadata": {},
   "outputs": [],
   "source": [
    "def poisson_probabilidad_n_arribos(t, n, lambda_): \n",
    "    return ((math.e ** (-(lambda_ * t))) * ((lambda_ * t) ** n)) / math.factorial(n)"
   ]
  },
  {
   "cell_type": "markdown",
   "id": "57b32b70",
   "metadata": {},
   "source": [
    "### Probabilidad de que el primer vehiculo arribe antes de los 10 minutos "
   ]
  },
  {
   "cell_type": "markdown",
   "id": "a34a3108",
   "metadata": {},
   "source": [
    "Paso 10 minutos a horas. 10 -> 10 / 60 = 0.16"
   ]
  },
  {
   "cell_type": "markdown",
   "id": "c8ee6dde",
   "metadata": {},
   "source": [
    "\\begin{equation}\n",
    "P(X_1 < 0.16) = 1 - P(X_1 > 0.16)\n",
    "\\end{equation}"
   ]
  },
  {
   "cell_type": "markdown",
   "id": "9adf396a",
   "metadata": {},
   "source": [
    "Prababilidad de que el primer arribo sea despues de los 10 minutos, es lo mismo que pedir que durante los primeros 10 minutos no haya arribos"
   ]
  },
  {
   "cell_type": "markdown",
   "id": "427ec769",
   "metadata": {},
   "source": [
    "\\begin{equation}\n",
    "P(X_1 > 0.16) = P(N_{(0, 0.16]} = 0)\n",
    "\\end{equation}"
   ]
  },
  {
   "cell_type": "markdown",
   "id": "433ed0be",
   "metadata": {},
   "source": [
    "\\begin{equation}\n",
    "P(N_{(0,0.16]}=0) = \\frac{e^{-\\lambda 0.16} (\\lambda 0.16)^0 }{0!}\n",
    "\\end{equation}"
   ]
  },
  {
   "cell_type": "markdown",
   "id": "5c40fe6f",
   "metadata": {},
   "source": [
    "Tomando que los tiempos entre arribos son en horas. Tenemos que t es (10 * 100) / 60 = 16.6666666667"
   ]
  },
  {
   "cell_type": "code",
   "execution_count": null,
   "id": "3e2eaf02",
   "metadata": {},
   "outputs": [],
   "source": [
    "1 - poisson_probabilidad_n_arribos(0.16, 0, lambda_)"
   ]
  },
  {
   "cell_type": "markdown",
   "id": "4fc56b62",
   "metadata": {},
   "source": [
    "Por lo tanto la probabilidad pedida es 79.4%"
   ]
  },
  {
   "cell_type": "markdown",
   "id": "634895b1",
   "metadata": {},
   "source": [
    "### Probabilidad de que el undecimo vehiculo arribe despues de los 60 minutos"
   ]
  },
  {
   "cell_type": "markdown",
   "id": "90870b7f",
   "metadata": {},
   "source": [
    "Paso a horas, 60 min -> 1 h"
   ]
  },
  {
   "cell_type": "markdown",
   "id": "e732d34c",
   "metadata": {},
   "source": [
    "\\begin{equation}\n",
    "P(X_{11} > 1)\n",
    "\\end{equation}"
   ]
  },
  {
   "cell_type": "markdown",
   "id": "c45c83e6",
   "metadata": {},
   "source": [
    "Esto es lo mismo que pedir que hasta 1 hora, haya <= 10 arribos."
   ]
  },
  {
   "cell_type": "markdown",
   "id": "d484d9b9",
   "metadata": {},
   "source": [
    "\\begin{equation}\n",
    "P(N_{(0,1]} \\leq 10) = \\sum\\limits_{i=0}^{10} P(N_{(0,1]} = i)\n",
    "\\end{equation}"
   ]
  },
  {
   "cell_type": "code",
   "execution_count": null,
   "id": "ec0f0230",
   "metadata": {},
   "outputs": [],
   "source": [
    "sumatoria = 0\n",
    "for i in range(10):\n",
    "    sumatoria = sumatoria + poisson_probabilidad_n_arribos(1, i, lambda_)\n",
    "sumatoria"
   ]
  },
  {
   "cell_type": "markdown",
   "id": "3bf395f4",
   "metadata": {},
   "source": [
    "Por lo tanto la probabilidad pedida es 47.2%"
   ]
  },
  {
   "cell_type": "markdown",
   "id": "231d4c2c",
   "metadata": {},
   "source": [
    "### Probabilidad de que arriben al menos 750 vehiculos antes de las 72 horas"
   ]
  },
  {
   "cell_type": "markdown",
   "id": "fd2ecd0c",
   "metadata": {},
   "source": [
    "Esto es lo mismo que pedir que hasta 72 horas, haya > 750 arribos."
   ]
  },
  {
   "cell_type": "markdown",
   "id": "a35ccc4e",
   "metadata": {},
   "source": [
    "\\begin{equation}\n",
    "P(N_{(0,72]} > 750) = 1 - P(N_{(0,72]} <= 750) = 1 - \\sum\\limits_{i=0}^{750} P(N_{(0,72]} = i)\n",
    "\\end{equation}"
   ]
  },
  {
   "cell_type": "code",
   "execution_count": null,
   "id": "a8d964fe",
   "metadata": {},
   "outputs": [],
   "source": [
    "sumatoria = 0\n",
    "results = [] \n",
    "for i in range(750):\n",
    "    if i < 108: # ver anexo\n",
    "        results.append(poisson_probabilidad_n_arribos(72, i, lambda_))\n",
    "        sumatoria = sumatoria + poisson_probabilidad_n_arribos(72, i, lambda_)\n",
    "1 - sumatoria"
   ]
  },
  {
   "cell_type": "markdown",
   "id": "c1b3a68e",
   "metadata": {},
   "source": [
    "Por lo tanto la probabilidad pedida es 100%"
   ]
  },
  {
   "cell_type": "markdown",
   "id": "6f883cf0",
   "metadata": {},
   "source": [
    "##### Anexo"
   ]
  },
  {
   "cell_type": "markdown",
   "id": "cb1f75ed",
   "metadata": {},
   "source": [
    "Con arribos mayores a 108 no tenemos la posibilidad de calcularlo un un error de overflow. Pero podemos asumir que son practicamente 0, ya que son valores muy pequeños, notar que la sumatoria de los 108 calculos es un valor infimo."
   ]
  },
  {
   "cell_type": "code",
   "execution_count": null,
   "id": "8b21c5cf",
   "metadata": {},
   "outputs": [],
   "source": [
    "# prob(72, 109, lambda_)"
   ]
  },
  {
   "cell_type": "code",
   "execution_count": null,
   "id": "9ccc2d77",
   "metadata": {},
   "outputs": [],
   "source": [
    "sum(results)"
   ]
  },
  {
   "cell_type": "markdown",
   "id": "459038cf",
   "metadata": {},
   "source": [
    "# Ejercicio 5"
   ]
  },
  {
   "cell_type": "code",
   "execution_count": null,
   "id": "7c79ca79",
   "metadata": {},
   "outputs": [],
   "source": [
    "f = open('caba_barrios.json')\n",
    "data = json.load(f)"
   ]
  },
  {
   "cell_type": "code",
   "execution_count": null,
   "id": "c553cb67",
   "metadata": {},
   "outputs": [],
   "source": [
    "# obtiene las coordenadas de el barrio en formato geojson,\n",
    "# y mediante la libreria shapely.geometry construye un poligono con ellas.\n",
    "from shapely.geometry import MultiPolygon, Polygon, Point\n",
    "def get_polygon_barrio_by_name(name):\n",
    "    barrios = data[\"features\"]\n",
    "    for barrio in barrios:\n",
    "        if barrio[\"properties\"]['BARRIO'] == name:\n",
    "            coordinates = barrio[\"geometry\"][\"coordinates\"][0][0]\n",
    "            print(\"coordinates: {} ...\".format(coordinates[0:5]))\n",
    "            return Polygon(coordinates)\n",
    "    raise Exception(\"barrio not found\")"
   ]
  },
  {
   "cell_type": "code",
   "execution_count": null,
   "id": "37f80ced",
   "metadata": {},
   "outputs": [],
   "source": [
    "# genera n puntos dentro del poligono\n",
    "def random_points_in_bounds(polygon, number, generator):\n",
    "    attempts = 0\n",
    "    points = []\n",
    "    while len(points) < number:\n",
    "        minx, miny, maxx, maxy = polygon.bounds    \n",
    "        x = minx + ((maxx - minx) * generator.uniform_random())\n",
    "        y = miny + ((maxy - miny) * generator.uniform_random())\n",
    "        point = Point(x, y)\n",
    "        attempts = attempts + 1\n",
    "        if polygon.contains(point):\n",
    "            points.append(point)\n",
    "            \n",
    "    polygon_area = polygon.area\n",
    "    polygon_boundary_area = (maxx - minx) * (maxy - miny)\n",
    "    rendimiento_teorico = polygon_area / polygon_boundary_area\n",
    "    \n",
    "    # rendimiento\n",
    "    print(\"rendimiento teorico: {}%\".format(round(rendimiento_teorico * 100, 2)))\n",
    "    print(\"intentos: {}, para generar efectivamente {}, rendimiento: {}%\"\n",
    "          .format(attempts, number, round((number / attempts) * 100, 2)))\n",
    "\n",
    "    return points"
   ]
  },
  {
   "cell_type": "code",
   "execution_count": null,
   "id": "07369693",
   "metadata": {},
   "outputs": [],
   "source": [
    "# grafica el poligono y los puntos generados\n",
    "def plot_polygon_and_points(polygon, points, points_gcl):    \n",
    "    # plot the polygon\n",
    "    xp,yp = polygon.exterior.xy\n",
    "    plt.plot(xp,yp)\n",
    "    \n",
    "    # plot the list of points\n",
    "    xs = [point.x for point in points]\n",
    "    ys = [point.y for point in points]\n",
    "    \n",
    "    plt.scatter(xs, ys, color=\"red\")\n",
    "    \n",
    "    # plot the list of points\n",
    "    xs = [point.x for point in points_gcl]\n",
    "    ys = [point.y for point in points_gcl]\n",
    "    \n",
    "    plt.scatter(xs, ys, color=\"blue\")\n",
    "    plt.show()"
   ]
  },
  {
   "cell_type": "code",
   "execution_count": null,
   "id": "cee75e5d",
   "metadata": {},
   "outputs": [],
   "source": [
    "generator = XORShiftGenerator(int(time.time()))\n",
    "generator_gcl = GCL(int(time.time()))"
   ]
  },
  {
   "cell_type": "markdown",
   "id": "e1104f3c",
   "metadata": {},
   "source": [
    "#### Paternal"
   ]
  },
  {
   "cell_type": "code",
   "execution_count": null,
   "id": "9179cb8e",
   "metadata": {},
   "outputs": [],
   "source": [
    "polygon = get_polygon_barrio_by_name(\"PATERNAL\")\n",
    "polygon"
   ]
  },
  {
   "cell_type": "code",
   "execution_count": null,
   "id": "76fe0075",
   "metadata": {},
   "outputs": [],
   "source": [
    "points = random_points_in_bounds(polygon, 20, generator)\n",
    "points_gcl = random_points_in_bounds(polygon, 20, generator_gcl)"
   ]
  },
  {
   "cell_type": "code",
   "execution_count": null,
   "id": "1c4d8501",
   "metadata": {},
   "outputs": [],
   "source": [
    "plot_polygon_and_points(polygon, points, points_gcl)"
   ]
  },
  {
   "cell_type": "markdown",
   "id": "4b08236f",
   "metadata": {},
   "source": [
    "#### Caballito"
   ]
  },
  {
   "cell_type": "code",
   "execution_count": null,
   "id": "4200cca2",
   "metadata": {},
   "outputs": [],
   "source": [
    "polygon = get_polygon_barrio_by_name(\"CABALLITO\")\n",
    "polygon"
   ]
  },
  {
   "cell_type": "code",
   "execution_count": null,
   "id": "7e7456d1",
   "metadata": {},
   "outputs": [],
   "source": [
    "points = random_points_in_bounds(polygon, 20, generator)\n",
    "points_gcl = random_points_in_bounds(polygon, 20, generator_gcl)"
   ]
  },
  {
   "cell_type": "code",
   "execution_count": null,
   "id": "023666c6",
   "metadata": {},
   "outputs": [],
   "source": [
    "plot_polygon_and_points(polygon, points, points_gcl)"
   ]
  },
  {
   "cell_type": "markdown",
   "id": "f0376342",
   "metadata": {},
   "source": [
    "#### Palermo"
   ]
  },
  {
   "cell_type": "code",
   "execution_count": null,
   "id": "4749d270",
   "metadata": {},
   "outputs": [],
   "source": [
    "polygon = get_polygon_barrio_by_name(\"PALERMO\")\n",
    "polygon"
   ]
  },
  {
   "cell_type": "code",
   "execution_count": null,
   "id": "0f38e1bd",
   "metadata": {},
   "outputs": [],
   "source": [
    "points = random_points_in_bounds(polygon, 20, generator)\n",
    "points_gcl = random_points_in_bounds(polygon, 20, generator_gcl)"
   ]
  },
  {
   "cell_type": "code",
   "execution_count": null,
   "id": "d9d08ed8",
   "metadata": {},
   "outputs": [],
   "source": [
    "plot_polygon_and_points(polygon, points, points_gcl)"
   ]
  },
  {
   "cell_type": "markdown",
   "id": "981aab27",
   "metadata": {},
   "source": [
    "#### Villa Luro"
   ]
  },
  {
   "cell_type": "code",
   "execution_count": null,
   "id": "7d6df0ab",
   "metadata": {},
   "outputs": [],
   "source": [
    "polygon = get_polygon_barrio_by_name(\"VILLA LURO\")\n",
    "polygon"
   ]
  },
  {
   "cell_type": "code",
   "execution_count": null,
   "id": "6d14fd6e",
   "metadata": {},
   "outputs": [],
   "source": [
    "points = random_points_in_bounds(polygon, 20, generator)\n",
    "points_gcl = random_points_in_bounds(polygon, 20, generator_gcl)"
   ]
  },
  {
   "cell_type": "code",
   "execution_count": null,
   "id": "7f464762",
   "metadata": {},
   "outputs": [],
   "source": [
    "plot_polygon_and_points(polygon, points, points_gcl)"
   ]
  },
  {
   "cell_type": "markdown",
   "id": "af46b690",
   "metadata": {},
   "source": [
    "#### Boedo"
   ]
  },
  {
   "cell_type": "code",
   "execution_count": null,
   "id": "88d2da6d",
   "metadata": {},
   "outputs": [],
   "source": [
    "polygon = get_polygon_barrio_by_name(\"BOEDO\")\n",
    "polygon"
   ]
  },
  {
   "cell_type": "code",
   "execution_count": null,
   "id": "9e2b1b5e",
   "metadata": {},
   "outputs": [],
   "source": [
    "points = random_points_in_bounds(polygon, 20, generator)\n",
    "points_gcl = random_points_in_bounds(polygon, 20, generator_gcl)"
   ]
  },
  {
   "cell_type": "code",
   "execution_count": null,
   "id": "65156e2c",
   "metadata": {},
   "outputs": [],
   "source": [
    "plot_polygon_and_points(polygon, points, points_gcl)"
   ]
  }
 ],
 "metadata": {
  "kernelspec": {
   "display_name": "Python 3 (ipykernel)",
   "language": "python",
   "name": "python3"
  },
  "language_info": {
   "codemirror_mode": {
    "name": "ipython",
    "version": 3
   },
   "file_extension": ".py",
   "mimetype": "text/x-python",
   "name": "python",
   "nbconvert_exporter": "python",
   "pygments_lexer": "ipython3",
   "version": "3.9.12"
  }
 },
 "nbformat": 4,
 "nbformat_minor": 5
}
