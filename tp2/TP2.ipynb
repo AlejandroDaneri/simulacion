{
 "cells": [
  {
   "cell_type": "markdown",
   "metadata": {},
   "source": [
    "#### Import Libs"
   ]
  },
  {
   "cell_type": "code",
   "execution_count": 289,
   "metadata": {},
   "outputs": [],
   "source": [
    "import os\n",
    "import re"
   ]
  },
  {
   "cell_type": "markdown",
   "metadata": {},
   "source": [
    "####  File Utils"
   ]
  },
  {
   "cell_type": "code",
   "execution_count": 290,
   "metadata": {},
   "outputs": [],
   "source": [
    "def read_file(folder, filename):\n",
    "    filepath = os.path.join(folder, filename)\n",
    "    file = open(filepath, 'r')\n",
    "    page = file.read()\n",
    "    return page"
   ]
  },
  {
   "cell_type": "markdown",
   "metadata": {},
   "source": [
    "#### Page Rank"
   ]
  },
  {
   "cell_type": "code",
   "execution_count": 352,
   "metadata": {},
   "outputs": [],
   "source": [
    "def open_pages(folder):\n",
    "    filenames = os.listdir(folder)\n",
    "    page_names = list(map(lambda filename: filename.split('.')[0], filenames))\n",
    "    pages = []\n",
    "    for filename in filenames:        \n",
    "        page = read_file(folder, filename)\n",
    "        pages.append(page)\n",
    "    return (pages, page_names)\n",
    "\n",
    "def page_rank_row(page, page_names, debug):\n",
    "    # n pages\n",
    "    n = 6\n",
    "    \n",
    "    # search links in the page\n",
    "    regex_links = \"<a href=\\\"http://(.*?).html\"\n",
    "    matchs = re.findall(regex_links, page)\n",
    "    \n",
    "    # probability \n",
    "    p = 1/n if len(matchs) == 0 else 1/len(matchs)\n",
    "    \n",
    "    # if pagename exist in the page\n",
    "    ### that position in the array will be a number > 0\n",
    "    # else\n",
    "    ### that position in the array will be a number 0\n",
    "    row = []\n",
    "    \n",
    "    if len(matchs) == 0:\n",
    "        row = [1/n, 1/n, 1/n, 1/n, 1/n, 1/n]\n",
    "    else:\n",
    "        for page_name in pages_names:\n",
    "            row.append(p if page_name in matchs else 0)\n",
    "\n",
    "    if debug:\n",
    "        print(\"=== page ===\")\n",
    "        print(\"pagenames: {}\".format(pages_names))\n",
    "        print(\"matchs: {}\".format(matchs))\n",
    "        print(\"page rank: {}\".format(list(map(lambda p: \"{:.2f}\".format(p), row))))\n",
    "    \n",
    "    return row\n",
    "\n",
    "def page_rank(pages, page_names, debug=False):\n",
    "    matrix = np.zeros(shape=(len(page_names), len(page_names)))\n",
    "    for index, page in enumerate(pages):\n",
    "        row = page_rank_row(page, page_names, debug)\n",
    "        matrix[index] = row\n",
    "    return matrix"
   ]
  },
  {
   "cell_type": "markdown",
   "metadata": {},
   "source": [
    "#### Run"
   ]
  },
  {
   "cell_type": "code",
   "execution_count": 353,
   "metadata": {},
   "outputs": [
    {
     "name": "stdout",
     "output_type": "stream",
     "text": [
      "[[0.         0.         1.         0.         0.         0.        ]\n",
      " [0.16666667 0.16666667 0.16666667 0.16666667 0.16666667 0.16666667]\n",
      " [0.16666667 0.16666667 0.16666667 0.16666667 0.16666667 0.16666667]\n",
      " [0.         0.         0.         0.         0.33333333 0.33333333]\n",
      " [0.         0.         0.         0.5        0.         0.5       ]\n",
      " [0.         0.25       0.25       0.         0.25       0.        ]]\n"
     ]
    }
   ],
   "source": [
    "folder = 'paginas'\n",
    "pages, page_names = open_pages(folder)\n",
    "matrix = page_rank(pages, page_names, False)\n",
    "\n",
    "print(matrix)"
   ]
  }
 ],
 "metadata": {
  "kernelspec": {
   "display_name": "Python 3",
   "language": "python",
   "name": "python3"
  },
  "language_info": {
   "codemirror_mode": {
    "name": "ipython",
    "version": 3
   },
   "file_extension": ".py",
   "mimetype": "text/x-python",
   "name": "python",
   "nbconvert_exporter": "python",
   "pygments_lexer": "ipython3",
   "version": "3.7.6"
  }
 },
 "nbformat": 4,
 "nbformat_minor": 5
}
