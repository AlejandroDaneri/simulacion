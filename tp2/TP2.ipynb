{
 "cells": [
  {
   "cell_type": "markdown",
   "metadata": {},
   "source": [
    "#### Import Libs"
   ]
  },
  {
   "cell_type": "code",
   "execution_count": 3,
   "metadata": {},
   "outputs": [],
   "source": [
    "import os\n",
    "import re\n",
    "import numpy as np\n",
    "import simpy"
   ]
  },
  {
   "cell_type": "markdown",
   "metadata": {},
   "source": [
    "<hr>"
   ]
  },
  {
   "cell_type": "markdown",
   "metadata": {},
   "source": [
    "1)"
   ]
  },
  {
   "cell_type": "markdown",
   "metadata": {},
   "source": [
    "####  File Utils"
   ]
  },
  {
   "cell_type": "code",
   "execution_count": 2,
   "metadata": {},
   "outputs": [],
   "source": [
    "def read_file(folder, filename):\n",
    "    filepath = os.path.join(folder, filename)\n",
    "    file = open(filepath, 'r')\n",
    "    page = file.read()\n",
    "    return page"
   ]
  },
  {
   "cell_type": "code",
   "execution_count": 3,
   "metadata": {},
   "outputs": [],
   "source": [
    "link_regex = '<a href=\\\"http://(.*?).html'"
   ]
  },
  {
   "cell_type": "markdown",
   "metadata": {},
   "source": [
    "#### Page Rank"
   ]
  },
  {
   "cell_type": "code",
   "execution_count": 4,
   "metadata": {},
   "outputs": [],
   "source": [
    "def open_pages(folder):\n",
    "    filenames = os.listdir(folder)\n",
    "    page_names = list(map(lambda filename: filename.split('.')[0], filenames))\n",
    "    pages = []\n",
    "    for filename in filenames:        \n",
    "        page = read_file(folder, filename)\n",
    "        pages.append(page)\n",
    "    return (pages, page_names)\n",
    "\n",
    "def markov_row(page, page_names):\n",
    "    # n pages\n",
    "    n = len(page_names)\n",
    "    \n",
    "    # search links in the page\n",
    "    matchs = re.findall(link_regex, page)\n",
    "    \n",
    "    # build adjacency\n",
    "    row = []\n",
    "    if len(matchs) == 0:\n",
    "        row = [1/n, 1/n, 1/n, 1/n, 1/n, 1/n]\n",
    "    else:\n",
    "        for page_name in page_names:\n",
    "            n_matchs = 0\n",
    "            for match in matchs:\n",
    "                if page_name == match:\n",
    "                    n_matchs += 1\n",
    "            row.append(n_matchs / len(matchs))\n",
    "    \n",
    "    return row\n",
    "\n",
    "def markov_matrix(pages, page_names):\n",
    "    matrix = np.zeros(shape=(len(page_names), len(page_names)))\n",
    "    for index, page in enumerate(pages):\n",
    "        row = markov_row(page, page_names)\n",
    "        matrix[index] = row\n",
    "    return matrix\n",
    "\n",
    "def distribucion_estacionaria(A):\n",
    "    A = [1,0,0,0,0,0]\n",
    "    for i in range(1000):\n",
    "        A = np.dot(A,matrix)\n",
    "    return A"
   ]
  },
  {
   "cell_type": "markdown",
   "metadata": {},
   "source": [
    "#### Run"
   ]
  },
  {
   "cell_type": "code",
   "execution_count": 16,
   "metadata": {},
   "outputs": [
    {
     "name": "stdout",
     "output_type": "stream",
     "text": [
      "Markov Matrix\n",
      "\n",
      "[[0.         0.5        0.         0.         0.         0.5       ]\n",
      " [0.5        0.         0.25       0.         0.25       0.        ]\n",
      " [0.16666667 0.16666667 0.16666667 0.16666667 0.16666667 0.16666667]\n",
      " [0.         0.         1.         0.         0.         0.        ]\n",
      " [0.16666667 0.16666667 0.16666667 0.16666667 0.16666667 0.16666667]\n",
      " [0.66666667 0.33333333 0.         0.         0.         0.        ]]\n",
      "\n",
      "\n",
      "Page Rank\n",
      "\n",
      "angelinajolie \t 0.28571428571428525\n",
      "bradpitt \t 0.24489795918367308\n",
      "martinscorces \t 0.14285714285714263\n",
      "robertdeniro \t 0.04081632653061218\n",
      "jenniferanist \t 0.10204081632653045\n",
      "jonvoight \t 0.1836734693877548\n"
     ]
    },
    {
     "data": {
      "text/plain": [
       "[('angelinajolie', 0.28571428571428525),\n",
       " ('bradpitt', 0.24489795918367308),\n",
       " ('jonvoight', 0.1836734693877548),\n",
       " ('martinscorcese', 0.14285714285714263),\n",
       " ('jenniferaniston', 0.10204081632653045),\n",
       " ('robertdeniro', 0.04081632653061218)]"
      ]
     },
     "execution_count": 16,
     "metadata": {},
     "output_type": "execute_result"
    }
   ],
   "source": [
    "folder = 'paginas'\n",
    "pages, page_names = open_pages(folder)\n",
    "matrix = markov_matrix(pages, page_names)\n",
    "\n",
    "print(\"Markov Matrix\\n\")\n",
    "print(matrix)\n",
    "print(\"\\n\")\n",
    "\n",
    "page_rank = distribucion_estacionaria(matrix)\n",
    "print(\"Page Rank\\n\")\n",
    "aux = dict()\n",
    "\n",
    "for i in range(len(page_names)):\n",
    "    aux[page_names[i]]=page_rank[i]\n",
    "    print(page_names[i][:13],\"\\t\",page_rank[i])\n",
    "page_rank = aux\n",
    "\n",
    "# Sort key\n",
    "def value_getter(item):\n",
    "     return item[1]\n",
    "\n",
    "sorted(aux.items(), key=value_getter,reverse=True)"
   ]
  },
  {
   "cell_type": "code",
   "execution_count": 40,
   "metadata": {},
   "outputs": [
    {
     "name": "stdout",
     "output_type": "stream",
     "text": [
      "[('martinscorcese', 3.071428571428571), ('angelinajolie', 1.6428571428571426), ('bradpitt', 1.6224489795918364), ('jonvoight', 0.5918367346938774), ('jenniferaniston', 0.5510204081632653), ('robertdeniro', 0.5204081632653061)]\n",
      "[('angelinajolie', 0), ('bradpitt', 0), ('martinscorcese', 0), ('robertdeniro', 0), ('jenniferaniston', 0), ('jonvoight', 0)]\n",
      "[('jonvoight', 2.0918367346938775), ('robertdeniro', 1.5204081632653061), ('bradpitt', 1.1224489795918364), ('martinscorcese', 1.0714285714285714), ('angelinajolie', 0.6428571428571426), ('jenniferaniston', 0)]\n"
     ]
    }
   ],
   "source": [
    "import string\n",
    "folder = 'paginas'\n",
    "filenames = os.listdir(folder)\n",
    "\n",
    "indexes=dict()\n",
    "for filename in filenames: \n",
    "    \n",
    "    filepath = os.path.join(folder, filename)\n",
    "\n",
    "    text = open(filepath, 'r')\n",
    "\n",
    "    # Create an empty dictionary\n",
    "    d = dict()\n",
    "    # Loop through each line of the file\n",
    "    for line in text:\n",
    "        # Remove the leading spaces and newline character\n",
    "        line = line.strip()\n",
    "\n",
    "        # Convert the characters in line to\n",
    "        # lowercase to avoid case mismatch\n",
    "        line = line.lower()\n",
    "\n",
    "        # Remove the punctuation marks from the line\n",
    "        line = line.translate(line.maketrans(\"\", \"\", string.punctuation))\n",
    "\n",
    "        # Split the line into words\n",
    "        words = line.split(\" \")\n",
    "\n",
    "        # Iterate over each word in line\n",
    "        for word in words:\n",
    "            # Check if the word is already in dictionary\n",
    "            if word in d:\n",
    "                # Increment count of word by 1\n",
    "                d[word] = d[word] + 1\n",
    "            else:\n",
    "                # Add the word to dictionary with count 1\n",
    "                d[word] = 1\n",
    "\n",
    "                \n",
    "    indexes[filename.split('.')[0]] = d\n",
    "\n",
    "def calculate_scores(word):\n",
    "    scores=dict()\n",
    "    for key in list(indexes.keys()):\n",
    "        if indexes[key].get(word) is None:\n",
    "            # si no encuentra la palabra directamente le pone puntaje 0\n",
    "            scores[key] = 0\n",
    "        else:\n",
    "            # ponderacion basica entre \n",
    "            scores[key]=0.5* indexes[key].get(word) + 0.5*page_rank[key]\n",
    "    return sorted(scores.items(), key=lambda item: item[1],reverse=True)\n",
    "\n",
    "scores=calculate_scores(\"film\")\n",
    "print(scores)\n",
    "\n",
    "scores=calculate_scores(\"action\")\n",
    "print(scores)\n",
    "\n",
    "scores=calculate_scores(\"actor\")\n",
    "print(scores)"
   ]
  },
  {
   "cell_type": "markdown",
   "metadata": {},
   "source": [
    "<hr>"
   ]
  },
  {
   "cell_type": "markdown",
   "metadata": {},
   "source": [
    "3)"
   ]
  },
  {
   "cell_type": "markdown",
   "metadata": {},
   "source": [
    "<b>Web Service</b>. El cual consulta una <b>Base de Datos</b>."
   ]
  },
  {
   "cell_type": "markdown",
   "metadata": {},
   "source": [
    "Dos opciones: <br>\n",
    "a) Utilizar dos bases de datos => <b>M/M/2</b> (dos canales de atencion) <br>\n",
    "b) Utilizar una base de datos => <b>M/M/1</b> (un canal de atencion) <br>"
   ]
  },
  {
   "cell_type": "markdown",
   "metadata": {},
   "source": [
    "Para ambos casos el tiempo entre arribos es 4 segundos:"
   ]
  },
  {
   "cell_type": "code",
   "execution_count": 1,
   "metadata": {},
   "outputs": [],
   "source": [
    "# 1 arribo  ______ 4 segundos\n",
    "# x arribos ______ 1 segundo\n",
    "#\n",
    "# x = (1 segundo * 1 arribo) / 4 segundos = 1/4 arribos en un segundo"
   ]
  },
  {
   "cell_type": "markdown",
   "metadata": {},
   "source": [
    "$$\n",
    "\\lambda = \\frac{1}{4}\n",
    "$$"
   ]
  },
  {
   "cell_type": "markdown",
   "metadata": {},
   "source": [
    "b)"
   ]
  },
  {
   "cell_type": "markdown",
   "metadata": {},
   "source": [
    "Tiempo de servicio es 0.8 segundos, esta es la tasa de servicio."
   ]
  },
  {
   "cell_type": "markdown",
   "metadata": {},
   "source": [
    "$$\n",
    "\\mu = 0.8\n",
    "$$"
   ]
  },
  {
   "cell_type": "code",
   "execution_count": 131,
   "metadata": {},
   "outputs": [],
   "source": [
    "class WebService:\n",
    "    \n",
    "    # arrival rate\n",
    "    request_rate = 0.25\n",
    "    \n",
    "    # attendance rate\n",
    "    proccess_rate = 0.8\n",
    "    \n",
    "    total_requests = 0\n",
    "    total_proccess = 0\n",
    "    \n",
    "    requests = 0\n",
    "    \n",
    "    def __init__(self, env):\n",
    "        self.env = env\n",
    "    \n",
    "    def generate_attendance(self):\n",
    "        while True:\n",
    "            self.total_proccess += 1\n",
    "            self.requests -= 1\n",
    "            print(\"attendance process | rate: {} | arrival  n: {} | requests: {}\".format(self.proccess_rate, self.total_proccess, self.requests))\n",
    "            yield self.env.timeout(self.proccess_rate)\n",
    "\n",
    "    def generate_arrival(self):\n",
    "        while True:\n",
    "            self.total_requests += 1\n",
    "            self.requests += 1\n",
    "            print(\"arrival process    | rate: {} | proccess n: {} |requests: {}\".format(self.request_rate, self.total_requests, self.requests))\n",
    "            yield self.env.timeout(self.request_rate)"
   ]
  },
  {
   "cell_type": "code",
   "execution_count": 132,
   "metadata": {},
   "outputs": [
    {
     "name": "stdout",
     "output_type": "stream",
     "text": [
      "arrival process    | rate: 0.25 | proccess n: 1 |requests: 1\n",
      "attendance process | rate: 0.8 | arrival  n: 1 | requests: 0\n",
      "arrival process    | rate: 0.25 | proccess n: 2 |requests: 1\n",
      "arrival process    | rate: 0.25 | proccess n: 3 |requests: 2\n",
      "arrival process    | rate: 0.25 | proccess n: 4 |requests: 3\n",
      "attendance process | rate: 0.8 | arrival  n: 2 | requests: 2\n",
      "arrival process    | rate: 0.25 | proccess n: 5 |requests: 3\n",
      "arrival process    | rate: 0.25 | proccess n: 6 |requests: 4\n",
      "arrival process    | rate: 0.25 | proccess n: 7 |requests: 5\n",
      "attendance process | rate: 0.8 | arrival  n: 3 | requests: 4\n",
      "arrival process    | rate: 0.25 | proccess n: 8 |requests: 5\n",
      "arrival process    | rate: 0.25 | proccess n: 9 |requests: 6\n",
      "arrival process    | rate: 0.25 | proccess n: 10 |requests: 7\n",
      "attendance process | rate: 0.8 | arrival  n: 4 | requests: 6\n",
      "arrival process    | rate: 0.25 | proccess n: 11 |requests: 7\n",
      "arrival process    | rate: 0.25 | proccess n: 12 |requests: 8\n",
      "arrival process    | rate: 0.25 | proccess n: 13 |requests: 9\n",
      "attendance process | rate: 0.8 | arrival  n: 5 | requests: 8\n",
      "arrival process    | rate: 0.25 | proccess n: 14 |requests: 9\n",
      "arrival process    | rate: 0.25 | proccess n: 15 |requests: 10\n",
      "arrival process    | rate: 0.25 | proccess n: 16 |requests: 11\n",
      "attendance process | rate: 0.8 | arrival  n: 6 | requests: 10\n",
      "arrival process    | rate: 0.25 | proccess n: 17 |requests: 11\n",
      "arrival process    | rate: 0.25 | proccess n: 18 |requests: 12\n",
      "arrival process    | rate: 0.25 | proccess n: 19 |requests: 13\n",
      "arrival process    | rate: 0.25 | proccess n: 20 |requests: 14\n",
      "attendance process | rate: 0.8 | arrival  n: 7 | requests: 13\n",
      "arrival process    | rate: 0.25 | proccess n: 21 |requests: 14\n",
      "arrival process    | rate: 0.25 | proccess n: 22 |requests: 15\n",
      "arrival process    | rate: 0.25 | proccess n: 23 |requests: 16\n",
      "attendance process | rate: 0.8 | arrival  n: 8 | requests: 15\n",
      "arrival process    | rate: 0.25 | proccess n: 24 |requests: 16\n",
      "arrival process    | rate: 0.25 | proccess n: 25 |requests: 17\n",
      "arrival process    | rate: 0.25 | proccess n: 26 |requests: 18\n",
      "attendance process | rate: 0.8 | arrival  n: 9 | requests: 17\n",
      "arrival process    | rate: 0.25 | proccess n: 27 |requests: 18\n",
      "arrival process    | rate: 0.25 | proccess n: 28 |requests: 19\n",
      "arrival process    | rate: 0.25 | proccess n: 29 |requests: 20\n",
      "attendance process | rate: 0.8 | arrival  n: 10 | requests: 19\n",
      "arrival process    | rate: 0.25 | proccess n: 30 |requests: 20\n",
      "arrival process    | rate: 0.25 | proccess n: 31 |requests: 21\n",
      "arrival process    | rate: 0.25 | proccess n: 32 |requests: 22\n",
      "attendance process | rate: 0.8 | arrival  n: 11 | requests: 21\n",
      "arrival process    | rate: 0.25 | proccess n: 33 |requests: 22\n",
      "arrival process    | rate: 0.25 | proccess n: 34 |requests: 23\n",
      "arrival process    | rate: 0.25 | proccess n: 35 |requests: 24\n",
      "arrival process    | rate: 0.25 | proccess n: 36 |requests: 25\n",
      "attendance process | rate: 0.8 | arrival  n: 12 | requests: 24\n",
      "arrival process    | rate: 0.25 | proccess n: 37 |requests: 25\n",
      "arrival process    | rate: 0.25 | proccess n: 38 |requests: 26\n",
      "arrival process    | rate: 0.25 | proccess n: 39 |requests: 27\n",
      "attendance process | rate: 0.8 | arrival  n: 13 | requests: 26\n",
      "arrival process    | rate: 0.25 | proccess n: 40 |requests: 27\n"
     ]
    }
   ],
   "source": [
    "env = simpy.Environment()\n",
    "web_service = WebService(env)\n",
    "env.process(web_service.generate_arrival())\n",
    "env.process(web_service.generate_attendance())\n",
    "env.run(until=10)"
   ]
  }
 ],
 "metadata": {
  "kernelspec": {
   "display_name": "Python 3",
   "language": "python",
   "name": "python3"
  },
  "language_info": {
   "codemirror_mode": {
    "name": "ipython",
    "version": 3
   },
   "file_extension": ".py",
   "mimetype": "text/x-python",
   "name": "python",
   "nbconvert_exporter": "python",
   "pygments_lexer": "ipython3",
   "version": "3.7.6"
  }
 },
 "nbformat": 4,
 "nbformat_minor": 5
}
