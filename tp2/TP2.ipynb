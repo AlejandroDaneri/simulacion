{
 "cells": [
  {
   "cell_type": "markdown",
   "metadata": {},
   "source": [
    "#### Import Libs"
   ]
  },
  {
   "cell_type": "code",
   "execution_count": 1,
   "metadata": {},
   "outputs": [],
   "source": [
    "import os\n",
    "import re\n",
    "import numpy as np\n",
    "import simpy\n",
    "import time\n",
    "from numpy import random\n",
    "from math import floor\n",
    "import math\n",
    "from matplotlib import pyplot as plt\n",
    "from scipy.stats import expon\n",
    "from scipy.stats import uniform\n",
    "from scipy.stats import randint\n",
    "from scipy.stats import poisson"
   ]
  },
  {
   "cell_type": "markdown",
   "metadata": {},
   "source": [
    "<hr>"
   ]
  },
  {
   "cell_type": "markdown",
   "metadata": {},
   "source": [
    "## Ejercicio 1"
   ]
  },
  {
   "cell_type": "markdown",
   "metadata": {},
   "source": [
    "####  File Utils"
   ]
  },
  {
   "cell_type": "code",
   "execution_count": 2,
   "metadata": {},
   "outputs": [],
   "source": [
    "def read_file(folder, filename):\n",
    "    filepath = os.path.join(folder, filename)\n",
    "    file = open(filepath, 'r')\n",
    "    page = file.read()\n",
    "    return page"
   ]
  },
  {
   "cell_type": "code",
   "execution_count": 3,
   "metadata": {},
   "outputs": [],
   "source": [
    "link_regex = '<a href=\\\"http://(.*?).html'"
   ]
  },
  {
   "cell_type": "markdown",
   "metadata": {},
   "source": [
    "#### Page Rank"
   ]
  },
  {
   "cell_type": "code",
   "execution_count": 4,
   "metadata": {},
   "outputs": [],
   "source": [
    "def open_pages(folder):\n",
    "    filenames = os.listdir(folder)\n",
    "    page_names = list(map(lambda filename: filename.split('.')[0], filenames))\n",
    "    pages = []\n",
    "    for filename in filenames:        \n",
    "        page = read_file(folder, filename)\n",
    "        pages.append(page)\n",
    "    return (pages, page_names)\n",
    "\n",
    "def markov_row(page, page_names):\n",
    "    # n pages\n",
    "    n = len(page_names)\n",
    "    \n",
    "    # search links in the page\n",
    "    matchs = re.findall(link_regex, page)\n",
    "    \n",
    "    # build adjacency\n",
    "    row = []\n",
    "    if len(matchs) == 0:\n",
    "        row = [1/n, 1/n, 1/n, 1/n, 1/n, 1/n]\n",
    "    else:\n",
    "        for page_name in page_names:\n",
    "            n_matchs = 0\n",
    "            for match in matchs:\n",
    "                if page_name == match:\n",
    "                    n_matchs += 1\n",
    "            row.append(n_matchs / len(matchs))\n",
    "    \n",
    "    return row\n",
    "\n",
    "def markov_matrix(pages, page_names):\n",
    "    matrix = np.zeros(shape=(len(page_names), len(page_names)))\n",
    "    for index, page in enumerate(pages):\n",
    "        row = markov_row(page, page_names)\n",
    "        matrix[index] = row\n",
    "    return matrix\n",
    "\n",
    "def distribucion_estacionaria(A):\n",
    "    A = [1,0,0,0,0,0]\n",
    "    for i in range(1000):\n",
    "        A = np.dot(A,matrix)\n",
    "    return A"
   ]
  },
  {
   "cell_type": "markdown",
   "metadata": {},
   "source": [
    "#### Run"
   ]
  },
  {
   "cell_type": "code",
   "execution_count": 5,
   "metadata": {},
   "outputs": [],
   "source": [
    "import string\n",
    "folder = 'paginas'\n",
    "filenames = os.listdir(folder)\n",
    "\n",
    "indexes=dict()\n",
    "for filename in filenames: \n",
    "    \n",
    "    filepath = os.path.join(folder, filename)\n",
    "\n",
    "    text = open(filepath, 'r')\n",
    "\n",
    "    # Create an empty dictionary\n",
    "    d = dict()\n",
    "    # Loop through each line of the file\n",
    "    for line in text:\n",
    "        # Remove the leading spaces and newline character\n",
    "        line = line.strip()\n",
    "\n",
    "        # Convert the characters in line to\n",
    "        # lowercase to avoid case mismatch\n",
    "        line = line.lower()\n",
    "\n",
    "        # Remove the punctuation marks from the line\n",
    "        line = line.translate(line.maketrans(\"\", \"\", string.punctuation))\n",
    "\n",
    "        # Split the line into words\n",
    "        words = line.split(\" \")\n",
    "\n",
    "        # Iterate over each word in line\n",
    "        for word in words:\n",
    "            # Check if the word is already in dictionary\n",
    "            if word in d:\n",
    "                # Increment count of word by 1\n",
    "                d[word] = d[word] + 1\n",
    "            else:\n",
    "                # Add the word to dictionary with count 1\n",
    "                d[word] = 1\n",
    "\n",
    "                \n",
    "    indexes[filename.split('.')[0]] = d"
   ]
  },
  {
   "cell_type": "code",
   "execution_count": 6,
   "metadata": {},
   "outputs": [
    {
     "name": "stdout",
     "output_type": "stream",
     "text": [
      "Markov Matrix\n",
      "\n",
      "[[0.         0.5        0.         0.         0.         0.5       ]\n",
      " [0.5        0.         0.25       0.         0.25       0.        ]\n",
      " [0.16666667 0.16666667 0.16666667 0.16666667 0.16666667 0.16666667]\n",
      " [0.         0.         1.         0.         0.         0.        ]\n",
      " [0.16666667 0.16666667 0.16666667 0.16666667 0.16666667 0.16666667]\n",
      " [0.66666667 0.33333333 0.         0.         0.         0.        ]]\n",
      "\n",
      "\n",
      "Page Rank\n",
      "\n",
      "angelinajolie \t 0.28571428571428525\n",
      "bradpitt \t 0.24489795918367308\n",
      "martinscorces \t 0.14285714285714263\n",
      "robertdeniro \t 0.04081632653061218\n",
      "jenniferanist \t 0.10204081632653045\n",
      "jonvoight \t 0.1836734693877548\n"
     ]
    },
    {
     "data": {
      "text/plain": [
       "[('angelinajolie', 0.28571428571428525),\n",
       " ('bradpitt', 0.24489795918367308),\n",
       " ('jonvoight', 0.1836734693877548),\n",
       " ('martinscorcese', 0.14285714285714263),\n",
       " ('jenniferaniston', 0.10204081632653045),\n",
       " ('robertdeniro', 0.04081632653061218)]"
      ]
     },
     "execution_count": 6,
     "metadata": {},
     "output_type": "execute_result"
    }
   ],
   "source": [
    "folder = 'paginas'\n",
    "pages, page_names = open_pages(folder)\n",
    "matrix = markov_matrix(pages, page_names)\n",
    "\n",
    "print(\"Markov Matrix\\n\")\n",
    "print(matrix)\n",
    "print(\"\\n\")\n",
    "\n",
    "page_rank = distribucion_estacionaria(matrix)\n",
    "print(\"Page Rank\\n\")\n",
    "aux = dict()\n",
    "\n",
    "for i in range(len(page_names)):\n",
    "    aux[page_names[i]]=page_rank[i]\n",
    "    print(page_names[i][:13],\"\\t\",page_rank[i])\n",
    "page_rank = aux\n",
    "\n",
    "# Sort key\n",
    "def value_getter(item):\n",
    "     return item[1]\n",
    "\n",
    "sorted(aux.items(), key=value_getter,reverse=True)"
   ]
  },
  {
   "cell_type": "markdown",
   "metadata": {},
   "source": [
    "$\\begin{bmatrix}    0 & 0 & 1 & 0 & 0 & 0\\\\    1/5 & 1/5 & 1/5 & 1/5 & 1/5 & 1/5 \\\\  1/5 & 1/5 & 1/5 & 1/5 & 1/5 & 1/5 \\\\   0 & 0 & 0 & 0 & 2/3 & 1/3 \\\\ 0 & 0 & 0 & 1/2 & 0 & 1/2 \\\\ 0 & 1/4 & 1/4 & 0 & 1/2 & 0 \\\\ \\end{bmatrix}$"
   ]
  },
  {
   "cell_type": "code",
   "execution_count": 7,
   "metadata": {},
   "outputs": [
    {
     "name": "stdout",
     "output_type": "stream",
     "text": [
      "[('martinscorcese', 3.071428571428571), ('angelinajolie', 1.6428571428571426), ('bradpitt', 1.6224489795918364), ('jonvoight', 0.5918367346938774), ('jenniferaniston', 0.5510204081632653), ('robertdeniro', 0.5204081632653061)]\n",
      "[('angelinajolie', 0), ('bradpitt', 0), ('martinscorcese', 0), ('robertdeniro', 0), ('jenniferaniston', 0), ('jonvoight', 0)]\n",
      "[('jonvoight', 2.0918367346938775), ('robertdeniro', 1.5204081632653061), ('bradpitt', 1.1224489795918364), ('martinscorcese', 1.0714285714285714), ('angelinajolie', 0.6428571428571426), ('jenniferaniston', 0)]\n"
     ]
    }
   ],
   "source": [
    "def calculate_scores(word):\n",
    "    scores=dict()\n",
    "    for key in list(indexes.keys()):\n",
    "        if indexes[key].get(word) is None:\n",
    "            # si no encuentra la palabra directamente le pone puntaje 0\n",
    "            scores[key] = 0\n",
    "        else:\n",
    "            # ponderacion basica entre aparicion y page rank\n",
    "            scores[key]=0.5* indexes[key].get(word) + 0.5*page_rank[key]\n",
    "    return sorted(scores.items(), key=lambda item: item[1],reverse=True)\n",
    "\n",
    "scores=calculate_scores(\"film\")\n",
    "print(scores)\n",
    "\n",
    "scores=calculate_scores(\"action\")\n",
    "print(scores)\n",
    "\n",
    "scores=calculate_scores(\"actor\")\n",
    "print(scores)"
   ]
  },
  {
   "cell_type": "markdown",
   "metadata": {},
   "source": [
    "<hr>"
   ]
  },
  {
   "cell_type": "markdown",
   "metadata": {},
   "source": [
    "## Ejercicio 2"
   ]
  },
  {
   "cell_type": "code",
   "execution_count": 8,
   "metadata": {},
   "outputs": [],
   "source": [
    "\"\"\"\n",
    "Pure image capture Satellite with FOFS scheduling policy simulator.\n",
    "\n",
    "Covers:\n",
    "\n",
    "- Arrival pattern of image requests are Poisson distributed arrival date\n",
    "- Rate service depends on number of queded reqeusts.\n",
    "\n",
    "\"\"\"\n",
    "\n",
    "import simpy\n",
    "\n",
    "\n",
    "RANDOM_SEED = 42\n",
    "REQ_ARRIVAL_MU = 10\n",
    "PROC_BASE_MU = 0.8\n",
    "N_REQUESTS = 100000\n",
    "\n",
    "class Satellite(object):\n",
    "    \"\"\"\n",
    "    The Satellite handles each request with an exponential wait that depends on the number of Queued items.\n",
    "    \"\"\"\n",
    "    \n",
    "    def __init__(self, env):\n",
    "        self.env = env\n",
    "        self.machine = simpy.Resource(env)\n",
    "        self.elements_in_queue = []\n",
    "        \n",
    "    def process_req(self):\n",
    "        q_size = len(self.machine.queue)\n",
    "        self.elements_in_queue.append(q_size)\n",
    "\n",
    "        req_procesing_time = random.exponential(1 / (PROC_BASE_MU * (q_size + 1) ))\n",
    "        yield self.env.timeout(req_procesing_time)\n",
    "    \n",
    "    def get_queue_values(self):\n",
    "        return self.elements_in_queue\n",
    "    \n",
    "\n",
    "def image_request(env, cw, processing_times):\n",
    "    \"\"\"Each image equest arrives at the satellite. And waits to be processed.\"\"\"\n",
    "\n",
    "\n",
    "    req_incom = env.now\n",
    "    with cw.machine.request() as request:\n",
    "        yield request\n",
    "\n",
    "\n",
    "        yield env.process(cw.process_req())\n",
    "        \n",
    "        processing_times.append(env.now - req_incom)\n",
    "\n",
    "\n",
    "\n",
    "def request_generator(env, satellite, processing_times):\n",
    "    \"\"\" Request generator following a Poisson distribution with Lambda = REQ_ARRIVAL_MU\"\"\"\n",
    "\n",
    "    \n",
    "    i = 0\n",
    "\n",
    "    # Create more cars while the simulation is running\n",
    "    while i < N_REQUESTS:\n",
    "        req_arrival_time = random.exponential(1 / REQ_ARRIVAL_MU)\n",
    "        yield env.timeout(req_arrival_time)\n",
    "        i += 1\n",
    "        env.process(image_request(env, satellite, processing_times))\n",
    "\n",
    "\n",
    "\n",
    "random.seed(RANDOM_SEED)\n",
    "\n",
    "# Create an environment and start the setup process\n",
    "env = simpy.Environment()\n",
    "satellite = Satellite(env)\n",
    "\n",
    "processing_times = []\n",
    "env.process(request_generator(env, satellite, processing_times))\n",
    "\n",
    "# Execute!\n",
    "env.run()\n",
    "\n",
    "\n"
   ]
  },
  {
   "cell_type": "code",
   "execution_count": 9,
   "metadata": {},
   "outputs": [
    {
     "data": {
      "text/plain": [
       "Text(0, 0.5, 'Probability')"
      ]
     },
     "execution_count": 9,
     "metadata": {},
     "output_type": "execute_result"
    },
    {
     "data": {
      "image/png": "[encoded data removed]",
      "text/plain": [
       "<Figure size 800x600 with 1 Axes>"
      ]
     },
     "metadata": {},
     "output_type": "display_data"
    }
   ],
   "source": [
    "def rel_freq(x):\n",
    "    vals = set(x)\n",
    "    y = [x.count(value)/len(x) for value in set(x)] \n",
    "    x_vals = [value for value in set(x)]\n",
    "    return y, x_vals\n",
    "\n",
    "y, x = rel_freq(satellite.get_queue_values())\n",
    "# creating a numpy array for x-axis\n",
    "# using step size as 1\n",
    "x_po = np.arange(0, len(x), 1)\n",
    " \n",
    "# poisson distribution data for y-axis\n",
    "y_po = poisson.pmf(x, mu=REQ_ARRIVAL_MU/PROC_BASE_MU)\n",
    " \n",
    " \n",
    "# plotting the graph\n",
    "\n",
    "\n",
    "plt.show()\n",
    "\n",
    "fig, ax = plt.subplots(figsize=(8,6))\n",
    "# ax.figure(figsize=(10,8))\n",
    "ax.plot(x, y, 'r-o', label='FOFS Simulator')\n",
    "ax.plot(x_po, y_po, label='M/M/INF Model')\n",
    "ax.legend()\n",
    "\n",
    "ax.set_xlabel('Image Capture Queue Length')\n",
    "ax.set_ylabel('Probability')"
   ]
  },
  {
   "cell_type": "markdown",
   "metadata": {},
   "source": [
    "### Tamaño promedio de la cola \n",
    "\n",
    "$$  Li = \\frac{\\lambda}{\\mu} $$"
   ]
  },
  {
   "cell_type": "code",
   "execution_count": 10,
   "metadata": {},
   "outputs": [
    {
     "name": "stdout",
     "output_type": "stream",
     "text": [
      "Tamaño de la muestra 100000\n",
      "Resultado esperado 12.500000\n",
      "Resultado obtenido 12.627720\n"
     ]
    }
   ],
   "source": [
    "val = REQ_ARRIVAL_MU/PROC_BASE_MU\n",
    "print('Tamaño de la muestra %d' % N_REQUESTS)\n",
    "\n",
    "print('Resultado esperado %f' % val)\n",
    "print('Resultado obtenido %f' % np.average(satellite.get_queue_values()))"
   ]
  },
  {
   "cell_type": "markdown",
   "metadata": {},
   "source": [
    "### Tiempo promedio de espera\n",
    "\n",
    "$$  W = \\frac{Li}{\\lambda} $$"
   ]
  },
  {
   "cell_type": "code",
   "execution_count": 11,
   "metadata": {},
   "outputs": [
    {
     "name": "stdout",
     "output_type": "stream",
     "text": [
      "Tamaño de la muestra 100000\n",
      "Resultado esperado 1.250000\n",
      "Resultado obtenido 1.362053\n"
     ]
    }
   ],
   "source": [
    "val = REQ_ARRIVAL_MU/PROC_BASE_MU\n",
    "print('Tamaño de la muestra %d' % N_REQUESTS)\n",
    "\n",
    "print('Resultado esperado %f' % (1 / PROC_BASE_MU))\n",
    "print('Resultado obtenido %f' % np.average(processing_times))"
   ]
  },
  {
   "cell_type": "markdown",
   "metadata": {},
   "source": [
    "<hr>"
   ]
  },
  {
   "cell_type": "markdown",
   "metadata": {},
   "source": [
    "## Ejercicio 3"
   ]
  },
  {
   "cell_type": "markdown",
   "metadata": {},
   "source": [
    "<b>Web Service</b>. El cual consulta una <b>Base de Datos</b>."
   ]
  },
  {
   "cell_type": "markdown",
   "metadata": {},
   "source": [
    "Dos opciones: <br>\n",
    "a) Utilizar dos bases de datos => <b>M/M/2</b> (dos canales de atencion) <br>\n",
    "b) Utilizar una base de datos => <b>M/M/1</b> (un canal de atencion) <br>"
   ]
  },
  {
   "cell_type": "markdown",
   "metadata": {},
   "source": [
    "#### Web Service Simulacion"
   ]
  },
  {
   "cell_type": "code",
   "execution_count": 860,
   "metadata": {},
   "outputs": [],
   "source": [
    "n = 100000\n",
    "\n",
    "class Request:\n",
    "    def __init__(self, timestamp):\n",
    "        self.start = timestamp\n",
    "        \n",
    "    def set_servicio_comienzo(self, timestamp):\n",
    "        self.servicio_comienzo = timestamp\n",
    "    \n",
    "    def set_servicio_termino(self, timestamp):\n",
    "        self.servicio_termino = timestamp\n",
    "        \n",
    "    def get_elapsed_hasta_ser_atendido(self):\n",
    "        return self.servicio_comienzo - self.start\n",
    "        \n",
    "    def get_elapsed_total(self):\n",
    "        return self.servicio_termino - self.start\n",
    "    \n",
    "    def set_espero(self, espero):\n",
    "        self.espero = espero\n",
    "        \n",
    "    def get_espero(self):\n",
    "        return self.espero\n",
    "    \n",
    "def get_media_hasta_ser_atendido(requests):\n",
    "    total = 0\n",
    "    for request in requests:\n",
    "        total += request.get_elapsed_hasta_ser_atendido()\n",
    "    return total / n\n",
    "        \n",
    "def get_media(requests):\n",
    "    total = 0\n",
    "    for request in requests:\n",
    "        total += request.get_elapsed_total()\n",
    "    return total / n\n",
    "    \n",
    "def get_fraccion_no_espera(requests):\n",
    "    total = 0\n",
    "    for request in requests:\n",
    "        if request.get_espero() is False:\n",
    "            total += 1\n",
    "    return total / n\n",
    "    \n",
    "class BaseDeDatos:\n",
    "    def __init__(self, env, mu):\n",
    "        self.mu = mu\n",
    "        self.resource = simpy.Resource(env, 1)\n",
    "        \n",
    "class WebService1:\n",
    "    ######################################\n",
    "    # Server con una unica Base de Datos #\n",
    "    ######################################\n",
    "    \n",
    "    def __init__(self, media_request, media_base_de_datos):\n",
    "        self.env = simpy.Environment()\n",
    "        self.base_de_datos = BaseDeDatos(self.env, media_base_de_datos)\n",
    "        self.media_requests = media_request\n",
    "        self.requests = []\n",
    "        \n",
    "    def process_request(self):\n",
    "        request = Request(self.env.now) # set start\n",
    "        request.set_espero(False if self.base_de_datos.resource.count == 0 else True)\n",
    "    \n",
    "        with self.base_de_datos.resource.request() as req:\n",
    "            results = yield req # delay hasta que servicio se libera\n",
    "            request.set_servicio_comienzo(self.env.now) # set comienzo de servicio\n",
    "            yield self.env.timeout(random.exponential(self.base_de_datos.mu)) # delay tiempo de servicio\n",
    "            request.set_servicio_termino(self.env.now) # set termino servicio\n",
    "            self.requests.append(request)\n",
    "    \n",
    "    def start(self):\n",
    "        for i in range(n):\n",
    "            self.env.process(self.process_request()) # proceso request\n",
    "            yield self.env.timeout(random.exponential(self.media_requests)) # delay tiempo de arribo\n",
    "\n",
    "    def run(self):\n",
    "        self.env.process(self.start())\n",
    "        self.env.run()\n",
    "        \n",
    "class WebService2:\n",
    "    #################################\n",
    "    # Server con dos Bases de Datos #\n",
    "    #################################\n",
    "    \n",
    "    p = 0.7\n",
    "\n",
    "    def __init__(self, media_request, medias_base_de_datos):\n",
    "        self.env = simpy.Environment()\n",
    "        self.bases_de_datos = [BaseDeDatos(self.env, medias_base_de_datos[0]), BaseDeDatos(self.env, medias_base_de_datos[0])]\n",
    "        self.media_requests = media_request\n",
    "        self.requests = []\n",
    "        \n",
    "    def process_request(self, base_de_datos):\n",
    "        request = Request(self.env.now)\n",
    "        request.set_espero(False if base_de_datos.resource.count == 0 else True)\n",
    "\n",
    "        with base_de_datos.resource.request() as req:\n",
    "            results = yield req # delay hasta que atencion se libera\n",
    "            request.set_servicio_comienzo(self.env.now) # set comienzo de servicio\n",
    "            yield self.env.timeout(random.exponential(base_de_datos.mu)) # delay tiempo de servicio\n",
    "            request.set_servicio_termino(self.env.now) # set termino servicio\n",
    "            self.requests.append(request)\n",
    "        \n",
    "    def start(self):\n",
    "        for i in range(n):\n",
    "            # bifurcacion a que base de datos voy\n",
    "            x = random.uniform(low=0.0, high=1.0, size=None)\n",
    "            i = 0 if x < self.p else 1\n",
    "            self.env.process(self.process_request(self.bases_de_datos[i])) # proceso request\n",
    "            yield self.env.timeout(random.exponential(self.media_requests)) # delay tiempo de arribo\n",
    "        \n",
    "    def run(self):\n",
    "        self.env.process(self.start())\n",
    "        self.env.run()"
   ]
  },
  {
   "cell_type": "markdown",
   "metadata": {},
   "source": [
    "#### Media Teorica"
   ]
  },
  {
   "cell_type": "code",
   "execution_count": 13,
   "metadata": {},
   "outputs": [],
   "source": [
    "def media_teorica(lambda_, mu):\n",
    "    return 1/(mu - lambda_)"
   ]
  },
  {
   "cell_type": "markdown",
   "metadata": {},
   "source": [
    "### Run"
   ]
  },
  {
   "cell_type": "markdown",
   "metadata": {},
   "source": [
    "#### Un Canal (b)"
   ]
  },
  {
   "cell_type": "code",
   "execution_count": 861,
   "metadata": {},
   "outputs": [
    {
     "name": "stdout",
     "output_type": "stream",
     "text": [
      "simulacion | media tiempo hasta ser atendido: 0.19221605337213366\n",
      "simulacion | media tiempo en el sistema: 0.9876010617450658\n",
      "teorica    | media tiempo en el sistema: 1.0\n",
      "simulacion | fraccion que no esperaron: 0.80312\n"
     ]
    }
   ],
   "source": [
    "# tasa arribos:    4 / segundo\n",
    "# tasa servicio: 0.8 / segundo\n",
    "media_requests = 4\n",
    "media_base_de_datos = 0.8\n",
    "lambda_ = 1/media_requests\n",
    "mu_ = 1/media_base_de_datos\n",
    "\n",
    "web_service = WebService1(media_requests, media_base_de_datos)\n",
    "web_service.run()\n",
    "\n",
    "print(\"simulacion | media tiempo hasta ser atendido: {}\".format(get_media_hasta_ser_atendido(web_service.requests)))\n",
    "print(\"simulacion | media tiempo en el sistema: {}\".format(get_media(web_service.requests)))\n",
    "print(\"teorica    | media tiempo en el sistema: {}\".format(media_teorica(1/media_requests, 1/media_base_de_datos)))\n",
    "print(\"simulacion | fraccion que no esperaron: {}\".format(get_fraccion_no_espera(web_service.requests)))"
   ]
  },
  {
   "cell_type": "markdown",
   "metadata": {},
   "source": [
    "#### Dos Canales (a)"
   ]
  },
  {
   "cell_type": "code",
   "execution_count": 862,
   "metadata": {},
   "outputs": [
    {
     "name": "stdout",
     "output_type": "stream",
     "text": [
      "simulacion | media tiempo hasta ser atendido: 0.08066191036306153\n",
      "simulacion | media tiempo en el sistema: 0.7797219623500781\n",
      "simulacion | fraccion que no esperaron: 0.89864\n"
     ]
    }
   ],
   "source": [
    "# tasa arribos:    4   / segundo\n",
    "# tasa servicio 1: 0.7 / segundo\n",
    "# tasa servicio 2: 1   / segundo\n",
    "\n",
    "p = 0.7\n",
    "\n",
    "lambda_ = 1/4\n",
    "mu_1_ = 1/0.7\n",
    "mu_2_ = 1/1\n",
    "\n",
    "media_requests = 1/lambda_\n",
    "media_base_de_datos_1 = 1/mu_1_\n",
    "media_base_de_datos_2 = 1/mu_2_\n",
    "\n",
    "web_service = WebService2(media_requests, [media_base_de_datos_1, media_base_de_datos_2])\n",
    "web_service.run()\n",
    "\n",
    "print(\"simulacion | media tiempo hasta ser atendido: {}\".format(get_media_hasta_ser_atendido(web_service.requests)))\n",
    "print(\"simulacion | media tiempo en el sistema: {}\".format(get_media(web_service.requests)))\n",
    "print(\"simulacion | fraccion que no esperaron: {}\".format(get_fraccion_no_espera(web_service.requests)))"
   ]
  },
  {
   "cell_type": "markdown",
   "metadata": {},
   "source": [
    "<hr>"
   ]
  },
  {
   "cell_type": "markdown",
   "metadata": {},
   "source": [
    "#### Distintos escenarios"
   ]
  },
  {
   "cell_type": "markdown",
   "metadata": {},
   "source": [
    "#### Factor de trafico: 1/2"
   ]
  },
  {
   "cell_type": "code",
   "execution_count": 16,
   "metadata": {},
   "outputs": [
    {
     "name": "stdout",
     "output_type": "stream",
     "text": [
      "simulacion | media tiempo hasta ser atendido: 0.990205454728911\n",
      "simulacion | media tiempo en el sistema: 1.9934406460092426\n",
      "teorica    | media tiempo en el sistema: 2.0\n",
      "simulacion | fraccion que no esperaron: 0.50041\n"
     ]
    }
   ],
   "source": [
    "# tasa arribos:  2 / segundo\n",
    "# tasa servicio: 1 / segundo\n",
    "# factor de trafico: (1/2)/1 = 1/2\n",
    "media_requests = 2\n",
    "media_base_de_datos = 1\n",
    "lambda_ = 1/media_requests\n",
    "mu_ = 1/media_base_de_datos\n",
    "\n",
    "web_service = WebService1(media_requests, media_base_de_datos)\n",
    "web_service.run()\n",
    "\n",
    "print(\"simulacion | media tiempo hasta ser atendido: {}\".format(get_media_hasta_ser_atendido(web_service.requests)))\n",
    "print(\"simulacion | media tiempo en el sistema: {}\".format(get_media(web_service.requests)))\n",
    "print(\"teorica    | media tiempo en el sistema: {}\".format(media_teorica(lambda_, mu_)))\n",
    "print(\"simulacion | fraccion que no esperaron: {}\".format(get_fraccion_no_espera(web_service.requests)))"
   ]
  },
  {
   "cell_type": "markdown",
   "metadata": {},
   "source": [
    "#### Factor de trafico: 1/5"
   ]
  },
  {
   "cell_type": "code",
   "execution_count": 864,
   "metadata": {},
   "outputs": [
    {
     "name": "stdout",
     "output_type": "stream",
     "text": [
      "simulacion | media tiempo hasta ser atendido: 0.2515748435957305\n",
      "simulacion | media tiempo en el sistema: 1.25656357149895\n",
      "teorica    | media tiempo en el sistema: 1.25\n",
      "simulacion | fraccion que no esperaron: 0.79924\n"
     ]
    }
   ],
   "source": [
    "# tasa arribos:  5 / segundo\n",
    "# tasa servicio: 1 / segundo\n",
    "# factor de trafico: (1/5)/1 = 1/5\n",
    "media_requests = 5\n",
    "media_base_de_datos = 1\n",
    "lambda_ = 1/media_requests\n",
    "mu_ = 1/media_base_de_datos\n",
    "\n",
    "web_service = WebService1(media_requests, media_base_de_datos)\n",
    "web_service.run()\n",
    "\n",
    "print(\"simulacion | media tiempo hasta ser atendido: {}\".format(get_media_hasta_ser_atendido(web_service.requests)))\n",
    "print(\"simulacion | media tiempo en el sistema: {}\".format(get_media(web_service.requests)))\n",
    "print(\"teorica    | media tiempo en el sistema: {}\".format(media_teorica(lambda_, mu_)))\n",
    "print(\"simulacion | fraccion que no esperaron: {}\".format(get_fraccion_no_espera(web_service.requests)))"
   ]
  },
  {
   "cell_type": "markdown",
   "metadata": {},
   "source": [
    "#### Factor de trafico: 1/30"
   ]
  },
  {
   "cell_type": "code",
   "execution_count": 863,
   "metadata": {},
   "outputs": [
    {
     "name": "stdout",
     "output_type": "stream",
     "text": [
      "simulacion | media tiempo hasta ser atendido: 0.03528542858228914\n",
      "simulacion | media tiempo en el sistema: 1.031236853162048\n",
      "teorica    | media tiempo en el sistema: 1.0344827586206897\n",
      "simulacion | fraccion que no esperaron: 0.96652\n"
     ]
    }
   ],
   "source": [
    "# tasa arribos:  30 / segundo\n",
    "# tasa servicio: 1 / segundo\n",
    "# factor de trafico: (1/30)/1 = 1/30\n",
    "media_requests = 30\n",
    "media_base_de_datos = 1\n",
    "lambda_ = 1/media_requests\n",
    "mu_ = 1/media_base_de_datos\n",
    "\n",
    "web_service = WebService1(media_requests, media_base_de_datos)\n",
    "web_service.run()\n",
    "\n",
    "print(\"simulacion | media tiempo hasta ser atendido: {}\".format(get_media_hasta_ser_atendido(web_service.requests)))\n",
    "print(\"simulacion | media tiempo en el sistema: {}\".format(get_media(web_service.requests)))\n",
    "print(\"teorica    | media tiempo en el sistema: {}\".format(media_teorica(lambda_, mu_)))\n",
    "print(\"simulacion | fraccion que no esperaron: {}\".format(get_fraccion_no_espera(web_service.requests)))"
   ]
  },
  {
   "cell_type": "markdown",
   "metadata": {},
   "source": [
    "Concluimos que a menor factor de trafico mejores dan los tiempos."
   ]
  },
  {
   "cell_type": "markdown",
   "metadata": {},
   "source": [
    "## Ejercicio 4"
   ]
  },
  {
   "cell_type": "code",
   "execution_count": 19,
   "metadata": {},
   "outputs": [],
   "source": [
    "CAP_MAX = 2000 # capacidad máxima de billetes\n",
    "\n",
    "MEDIA_ARRIVO = 10 # media de la dist exp de tpo entre arrivo (10min)\n",
    "LAMBDA_ARRIVO = 1 / MEDIA_ARRIVO\n",
    "\n",
    "PROB_RET = 0.75 # probabilidad de que el cliente retire\n",
    "MEDIA_RET = 1.5 # media de la dist exp de tpo de retiro (90s = 1.5min)\n",
    "LAMBDA_RET = 1 / MEDIA_RET\n",
    "MIN_RET = 3 # cant min de billetes que retira\n",
    "MAX_RET = 50 # cant max de billetes que retira\n",
    "\n",
    "MEDIA_DEP = 5 # media de la dist exp de tpo de deposito (5min)\n",
    "LAMBDA_DEP = 1 / MEDIA_DEP\n",
    "MIN_DEP = 10 # cant min de billetes que deposita\n",
    "MAX_DEP = 110 # cant max de billetes que deposita\n",
    "\n",
    "DIAS_SIM = 1000\n",
    "MINUTOS_DIA = 24 * 60\n",
    "TPO_SIM = DIAS_SIM * MINUTOS_DIA # tiempo de simulación (1000 dias)"
   ]
  },
  {
   "cell_type": "code",
   "execution_count": 20,
   "metadata": {},
   "outputs": [],
   "source": [
    "# Definimos la simulación\n",
    "#\n",
    "# Referencias y materiales:\n",
    "# - https://simpy.readthedocs.io/en/latest/simpy_intro/index.html\n",
    "# - https://docs.scipy.org/doc/scipy/reference/generated/scipy.stats.expon.html\n",
    "# - https://docs.scipy.org/doc/scipy/reference/generated/scipy.stats.uniform.html#scipy.stats.uniform\n",
    "# - https://docs.scipy.org/doc/scipy/reference/generated/scipy.stats.randint.html\n",
    "# - https://towardsdatascience.com/introduction-to-simulation-with-simpy-322606d4ba0c\n",
    "# - https://simpy.readthedocs.io/en/latest/topical_guides/resources.html#containers\n",
    "\n",
    "def operar(env, atm, nro_cl, media_op, cantidad, condicion, operacion):\n",
    "    global caja, tot_abandonos, txs\n",
    "    with atm.request() as req:\n",
    "        tpo_entra_queue = env.now\n",
    "        yield req;\n",
    "        tpo_sale_queue = env.now\n",
    "        tpo_espera = tpo_sale_queue - tpo_entra_queue\n",
    "\n",
    "        tpo_op = expon.rvs(scale=media_op, size=1)[0]\n",
    "\n",
    "        if condicion(caja, cantidad):\n",
    "            caja = operacion(caja, cantidad)\n",
    "            yield env.timeout(tpo_op)\n",
    "\n",
    "            txs = np.vstack((txs, [caja, env.now, floor(env.now // MINUTOS_DIA)]))\n",
    "        else:\n",
    "            # no se da la condición para poder operar, abandona\n",
    "            tot_abandonos += 1\n",
    "\n",
    "        tpos_en_sist.append(tpo_espera + tpo_op)\n",
    "\n",
    "def ret(env, atm, nro_cl):\n",
    "    cantidad = randint.rvs(MIN_RET, MAX_RET, size=1)[0]\n",
    "    condicion = lambda caja, cant: caja - cant >= 0\n",
    "    operacion = lambda caja, cant: caja - cant\n",
    "    return operar(env, atm, nro_cl, MEDIA_RET, cantidad, condicion, operacion)\n",
    "    \n",
    "def dep(env, atm, nro_cl):\n",
    "    cantidad = randint.rvs(MIN_DEP, MAX_DEP, size=1)[0]\n",
    "    condicion = lambda caja, cant: caja + cant < CAP_MAX\n",
    "    operacion = lambda caja, cant: caja + cant\n",
    "    return operar(env, atm, nro_cl, MEDIA_DEP, cantidad, condicion, operacion)\n",
    "\n",
    "def arrivos_clientes(env, atm):\n",
    "    global caja, tot_arrivos\n",
    "    caja = CAP_MAX\n",
    "\n",
    "    nro_cl = 0\n",
    "    while True:\n",
    "        # generamos un tpo de arrivo exponencial\n",
    "        tpo_arrivo = expon.rvs(scale=MEDIA_ARRIVO, size=1)[0]\n",
    "        yield env.timeout(tpo_arrivo)\n",
    "        nro_cl += 1\n",
    "\n",
    "        retira_dinero = uniform.rvs() < PROB_RET\n",
    "\n",
    "        if retira_dinero:\n",
    "            env.process(ret(env, atm, nro_cl))\n",
    "        else:\n",
    "            env.process(dep(env, atm, nro_cl))\n",
    "    \n",
    "        tot_arrivos = nro_cl"
   ]
  },
  {
   "cell_type": "code",
   "execution_count": 21,
   "metadata": {},
   "outputs": [],
   "source": [
    "# a. simulación\n",
    "\n",
    "# no uso Container de simpy porque las operaciones put/get no se ajustan al modelo\n",
    "# y está garantizado que solo se usa un cajero, por lo que el recurso actua de lock\n",
    "caja = CAP_MAX\n",
    "\n",
    "# columnas: [monto de caja al finalizar tx; tpo al finalizar tx; dia de la tx]\n",
    "COL_CAJA = 0\n",
    "COL_FIN_TX = 1\n",
    "COL_DIA_TX = 2\n",
    "txs = np.empty((1, 3))\n",
    "\n",
    "# tpos_en_sist contempla también el tiempo de aquellos que abandonan al no poder operar\n",
    "tpos_en_sist = []\n",
    "\n",
    "tot_abandonos = 0\n",
    "tot_arrivos = 0\n",
    "\n",
    "env = simpy.Environment()\n",
    "atm = simpy.Resource(env, capacity=1)\n",
    "env.process(arrivos_clientes(env, atm))\n",
    "env.run(until=TPO_SIM)"
   ]
  },
  {
   "cell_type": "code",
   "execution_count": 22,
   "metadata": {},
   "outputs": [
    {
     "data": {
      "image/png": "[encoded data removed]",
      "text/plain": [
       "<Figure size 640x480 with 1 Axes>"
      ]
     },
     "metadata": {},
     "output_type": "display_data"
    }
   ],
   "source": [
    "# b. Graficamos para un día particular, indexado desde 0\n",
    "# https://stackoverflow.com/a/58079385\n",
    "DIA = 54\n",
    "txs_dia = txs[txs[:,COL_DIA_TX] == DIA, :]\n",
    "\n",
    "plt.step(txs_dia[:,COL_FIN_TX] % MINUTOS_DIA, txs_dia[:,COL_CAJA])\n",
    "plt.xlabel('Tiempo (minutos del dia %d)' % DIA)\n",
    "plt.ylabel('Caja')\n",
    "plt.title('Variación de caja en día %d' % DIA)\n",
    "plt.show()"
   ]
  },
  {
   "cell_type": "code",
   "execution_count": 23,
   "metadata": {},
   "outputs": [
    {
     "data": {
      "image/png": "[encoded data removed]",
      "text/plain": [
       "<Figure size 640x480 with 1 Axes>"
      ]
     },
     "metadata": {},
     "output_type": "display_data"
    }
   ],
   "source": [
    "# también es de interés ver el comportamiento en los primeros dias\n",
    "# graficamos para los primeros 5 (0 a 4)\n",
    "DIA_MAX = 5\n",
    "txs_dia = txs[txs[:,COL_DIA_TX] < DIA_MAX, :]\n",
    "\n",
    "plt.step(txs_dia[:,COL_FIN_TX], txs_dia[:,COL_CAJA])\n",
    "plt.xlabel('Tiempo (minutos desde t=0)')\n",
    "plt.ylabel('Caja')\n",
    "plt.title('Variación de caja en los primeros %d dias' % DIA_MAX)\n",
    "plt.show()"
   ]
  },
  {
   "cell_type": "code",
   "execution_count": 24,
   "metadata": {},
   "outputs": [
    {
     "name": "stdout",
     "output_type": "stream",
     "text": [
      "El tiempo promedio en el sistema (espera + uso de cajero) es de 3.36 minutos\n"
     ]
    }
   ],
   "source": [
    "# c. tpo medio en el sistema\n",
    "avg = np.average(np.array(tpos_en_sist))\n",
    "avg_str = str(round(avg, 2))\n",
    "print('El tiempo promedio en el sistema (espera + uso de cajero) es de %s minutos' % avg_str)"
   ]
  },
  {
   "cell_type": "code",
   "execution_count": 25,
   "metadata": {},
   "outputs": [
    {
     "name": "stdout",
     "output_type": "stream",
     "text": [
      "La simulación resulta en una tasa de abandonos del 14.75%. En consecuencia se sugiere la implementación del cambio\n"
     ]
    }
   ],
   "source": [
    "# d. recomendación a la entidad\n",
    "UMBRAL_TASA_ABANDONOS = 0.2\n",
    "tasa_abandonos = tot_abandonos / tot_arrivos\n",
    "tasa_abandonos_str = str(round(tasa_abandonos * 100, 2))\n",
    "\n",
    "if tasa_abandonos < UMBRAL_TASA_ABANDONOS:\n",
    "    print('La simulación resulta en una tasa de abandonos del %s%%. En consecuencia se sugiere la implementación del cambio' % tasa_abandonos_str)\n",
    "else:\n",
    "    print('La simulación resulta en una tasa de abandonos del %s%%. En consecuencia no se recomienda la implementación del cambio' % tasa_abandonos_str)"
   ]
  },
  {
   "cell_type": "markdown",
   "metadata": {},
   "source": [
    "Nota: en casi todas las simulaciones realizadas se obtuvo resultados entre 13% y 15% de tasa de abandono, que es una mejora respecto al 20% inicial."
   ]
  }
 ],
 "metadata": {
  "kernelspec": {
   "display_name": "Python 3",
   "language": "python",
   "name": "python3"
  },
  "language_info": {
   "codemirror_mode": {
    "name": "ipython",
    "version": 3
   },
   "file_extension": ".py",
   "mimetype": "text/x-python",
   "name": "python",
   "nbconvert_exporter": "python",
   "pygments_lexer": "ipython3",
   "version": "3.7.6"
  }
 },
 "nbformat": 4,
 "nbformat_minor": 5
}
