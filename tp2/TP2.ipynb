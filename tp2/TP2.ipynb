{
 "cells": [
  {
   "cell_type": "markdown",
   "metadata": {},
   "source": [
    "#### Import Libs"
   ]
  },
  {
   "cell_type": "code",
   "execution_count": 289,
   "metadata": {},
   "outputs": [],
   "source": [
    "import os\n",
    "import re"
   ]
  },
  {
   "cell_type": "markdown",
   "metadata": {},
   "source": [
    "####  File Utils"
   ]
  },
  {
   "cell_type": "code",
   "execution_count": 290,
   "metadata": {},
   "outputs": [],
   "source": [
    "def read_file(folder, filename):\n",
    "    filepath = os.path.join(folder, filename)\n",
    "    file = open(filepath, 'r')\n",
    "    page = file.read()\n",
    "    return page"
   ]
  },
  {
   "cell_type": "markdown",
   "metadata": {},
   "source": [
    "#### Page Rank"
   ]
  },
  {
   "cell_type": "code",
   "execution_count": 392,
   "metadata": {},
   "outputs": [],
   "source": [
    "def open_pages(folder):\n",
    "    filenames = os.listdir(folder)\n",
    "    page_names = list(map(lambda filename: filename.split('.')[0], filenames))\n",
    "    pages = []\n",
    "    for filename in filenames:        \n",
    "        page = read_file(folder, filename)\n",
    "        pages.append(page)\n",
    "    return (pages, page_names)\n",
    "\n",
    "def page_rank_row(page, page_names):\n",
    "    # n pages\n",
    "    n = len(page_names)\n",
    "    \n",
    "    # search links in the page\n",
    "    regex_links = '<a href=\"http://(.*?).html'\n",
    "    matchs = re.findall(regex_links, page)\n",
    "    \n",
    "    # probability \n",
    "    p = 1/n if len(matchs) == 0 else 1/len(matchs)\n",
    "    \n",
    "    # if pagename exist in the page\n",
    "    ### that position in the array will be a number > 0\n",
    "    # else\n",
    "    ### that position in the array will be a number 0\n",
    "    row = []\n",
    "    \n",
    "    if len(matchs) == 0:\n",
    "        row = [1/n, 1/n, 1/n, 1/n, 1/n, 1/n]\n",
    "    else:\n",
    "        for page_name in pages_names:\n",
    "            row.append(p if page_name in matchs else 0)\n",
    "    \n",
    "    return row\n",
    "\n",
    "def page_rank(pages, page_names):\n",
    "    matrix = np.zeros(shape=(len(page_names), len(page_names)))\n",
    "    for index, page in enumerate(pages):\n",
    "        row = page_rank_row(page, page_names)\n",
    "        matrix[index] = row\n",
    "    return matrix"
   ]
  },
  {
   "cell_type": "markdown",
   "metadata": {},
   "source": [
    "#### Run"
   ]
  },
  {
   "cell_type": "code",
   "execution_count": 393,
   "metadata": {},
   "outputs": [
    {
     "name": "stdout",
     "output_type": "stream",
     "text": [
      "[[0.         0.         1.         0.         0.         0.        ]\n",
      " [0.16666667 0.16666667 0.16666667 0.16666667 0.16666667 0.16666667]\n",
      " [0.16666667 0.16666667 0.16666667 0.16666667 0.16666667 0.16666667]\n",
      " [0.         0.         0.         0.         0.33333333 0.33333333]\n",
      " [0.         0.         0.         0.5        0.         0.5       ]\n",
      " [0.         0.25       0.25       0.         0.25       0.        ]]\n"
     ]
    }
   ],
   "source": [
    "folder = 'paginas'\n",
    "pages, page_names = open_pages(folder)\n",
    "matrix = page_rank(pages, page_names)\n",
    "\n",
    "print(matrix)"
   ]
  },
  {
   "cell_type": "markdown",
   "metadata": {},
   "source": [
    "#### Ejemplo de como funciona "
   ]
  },
  {
   "cell_type": "code",
   "execution_count": 385,
   "metadata": {},
   "outputs": [
    {
     "data": {
      "text/plain": [
       "'<html>\\n<head>\\n    <title>Jon Voight</title>\\n</head>\\n<body>\\n    Jonathan Vincent \"Jon\" Voight (born December 29, 1938) is an American film and television actor. He has had a long and distinguished career as both a leading man and, in recent years, a character actor, with an extensive and compelling range. He came to prominence at the end of the 1960s, with a performance as a would-be hustler in 1969\\'s Best Picture winner, Midnight Cowboy, for which he earned his first Academy Award nomination. Throughout the following decades, Voight built his reputation with an array of challenging roles and has appeared in such landmark films as Deliverance (1972), and Coming Home (1978), for which he received an Academy Award for Best Actor. Voight\\'s impersonation of sportscaster/journalist Howard Cosell, in the 2001 biopic Ali, earned Voight critical raves and his fourth Oscar nomination. He has starred in the seventh season of 24 as the villain Jonas Hodges.\\n    Voight is the father of actress <a href=\"http://angelinajolie.html\">Angelina Jolie</a> and actor James Haven, as well as brother of singer-songwriter Chip Taylor and geologist Barry Voight. He has six grandchildren by <a href=\"http://angelinajolie.html\">Jolie</a> and her partner <a href=\"http://bradpitt.html\">Brad Pitt</a>.\\n</body>\\n</html>\\n'"
      ]
     },
     "execution_count": 385,
     "metadata": {},
     "output_type": "execute_result"
    }
   ],
   "source": [
    "page = read_file(folder, \"jonvoight.html\")\n",
    "page"
   ]
  },
  {
   "cell_type": "markdown",
   "metadata": {},
   "source": [
    "Vemos que tiene 2 links hacia \"angelinajolie\" y 1 a \"bradpitt\", entonces:"
   ]
  },
  {
   "cell_type": "markdown",
   "metadata": {},
   "source": [
    "p sera 1 / 3 => 0.33"
   ]
  },
  {
   "cell_type": "markdown",
   "metadata": {},
   "source": [
    "Y el array sera cero en las posiciones que no son estas dos pages, y 0.33 en las que si son."
   ]
  },
  {
   "cell_type": "code",
   "execution_count": 361,
   "metadata": {},
   "outputs": [
    {
     "data": {
      "text/plain": [
       "[0, 0, 0, 0, 0.3333333333333333, 0.3333333333333333]"
      ]
     },
     "execution_count": 361,
     "metadata": {},
     "output_type": "execute_result"
    }
   ],
   "source": [
    "page_rank_row(page, page_names)"
   ]
  }
 ],
 "metadata": {
  "kernelspec": {
   "display_name": "Python 3",
   "language": "python",
   "name": "python3"
  },
  "language_info": {
   "codemirror_mode": {
    "name": "ipython",
    "version": 3
   },
   "file_extension": ".py",
   "mimetype": "text/x-python",
   "name": "python",
   "nbconvert_exporter": "python",
   "pygments_lexer": "ipython3",
   "version": "3.7.6"
  }
 },
 "nbformat": 4,
 "nbformat_minor": 5
}
