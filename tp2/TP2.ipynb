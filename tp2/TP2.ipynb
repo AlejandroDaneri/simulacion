{
 "cells": [
  {
   "cell_type": "markdown",
   "metadata": {},
   "source": [
    "#### Import Libs"
   ]
  },
  {
   "cell_type": "code",
   "execution_count": 582,
   "metadata": {},
   "outputs": [],
   "source": [
    "import os\n",
    "import re\n",
    "import numpy as np"
   ]
  },
  {
   "cell_type": "markdown",
   "metadata": {},
   "source": [
    "####  File Utils"
   ]
  },
  {
   "cell_type": "code",
   "execution_count": 290,
   "metadata": {},
   "outputs": [],
   "source": [
    "def read_file(folder, filename):\n",
    "    filepath = os.path.join(folder, filename)\n",
    "    file = open(filepath, 'r')\n",
    "    page = file.read()\n",
    "    return page"
   ]
  },
  {
   "cell_type": "code",
   "execution_count": 400,
   "metadata": {},
   "outputs": [],
   "source": [
    "link_regex = '<a href=\\\"http://(.*?).html'"
   ]
  },
  {
   "cell_type": "markdown",
   "metadata": {},
   "source": [
    "#### Page Rank"
   ]
  },
  {
   "cell_type": "code",
   "execution_count": 578,
   "metadata": {},
   "outputs": [],
   "source": [
    "def open_pages(folder):\n",
    "    filenames = os.listdir(folder)\n",
    "    page_names = list(map(lambda filename: filename.split('.')[0], filenames))\n",
    "    pages = []\n",
    "    for filename in filenames:        \n",
    "        page = read_file(folder, filename)\n",
    "        pages.append(page)\n",
    "    return (pages, page_names)\n",
    "\n",
    "def page_rank_row(page, page_names):\n",
    "    # n pages\n",
    "    n = len(page_names)\n",
    "    \n",
    "    # search links in the page\n",
    "    matchs = re.findall(link_regex, page)\n",
    "    \n",
    "    # build adjacency\n",
    "    row = []\n",
    "    if len(matchs) == 0:\n",
    "        row = [1/n, 1/n, 1/n, 1/n, 1/n, 1/n]\n",
    "    else:\n",
    "        for page_name in pages_names:\n",
    "            n_matchs = 0\n",
    "            for match in matchs:\n",
    "                if page_name == match:\n",
    "                    n_matchs += 1\n",
    "            row.append(n_matchs / len(matchs))\n",
    "    \n",
    "    return row\n",
    "\n",
    "def page_rank(pages, page_names):\n",
    "    matrix = np.zeros(shape=(len(page_names), len(page_names)))\n",
    "    for index, page in enumerate(pages):\n",
    "        row = page_rank_row(page, page_names)\n",
    "        matrix[index] = row\n",
    "    return matrix\n",
    "\n",
    "def distribucion_estacionaria(A):\n",
    "    A = [1,0,0,0,0,0]\n",
    "    for i in range(1000):\n",
    "        A = np.dot(A,matrix)\n",
    "    return A"
   ]
  },
  {
   "cell_type": "markdown",
   "metadata": {},
   "source": [
    "#### Run"
   ]
  },
  {
   "cell_type": "code",
   "execution_count": 580,
   "metadata": {},
   "outputs": [
    {
     "name": "stdout",
     "output_type": "stream",
     "text": [
      "[[0.         0.         1.         0.         0.         0.        ]\n",
      " [0.16666667 0.16666667 0.16666667 0.16666667 0.16666667 0.16666667]\n",
      " [0.16666667 0.16666667 0.16666667 0.16666667 0.16666667 0.16666667]\n",
      " [0.         0.         0.         0.         0.66666667 0.33333333]\n",
      " [0.         0.         0.         0.5        0.         0.5       ]\n",
      " [0.         0.25       0.25       0.         0.5        0.        ]]\n",
      "[0.04081633 0.10204082 0.14285714 0.18367347 0.28571429 0.24489796]\n"
     ]
    }
   ],
   "source": [
    "folder = 'paginas'\n",
    "pages, page_names = open_pages(folder)\n",
    "matrix = page_rank(pages, page_names)\n",
    "print(matrix)\n",
    "page_rank = distribucion_estacionaria(matrix)\n",
    "print(page_rank)"
   ]
  }
 ],
 "metadata": {
  "kernelspec": {
   "display_name": "Python 3",
   "language": "python",
   "name": "python3"
  },
  "language_info": {
   "codemirror_mode": {
    "name": "ipython",
    "version": 3
   },
   "file_extension": ".py",
   "mimetype": "text/x-python",
   "name": "python",
   "nbconvert_exporter": "python",
   "pygments_lexer": "ipython3",
   "version": "3.7.6"
  }
 },
 "nbformat": 4,
 "nbformat_minor": 5
}
