{
 "cells": [
  {
   "cell_type": "markdown",
   "metadata": {},
   "source": [
    "#### Import Libs"
   ]
  },
  {
   "cell_type": "code",
   "execution_count": 1,
   "metadata": {},
   "outputs": [],
   "source": [
    "import os\n",
    "import re\n",
    "import numpy as np\n",
    "import simpy\n",
    "import time\n",
    "from numpy import random\n",
    "from math import floor\n",
    "from matplotlib import pyplot as plt\n",
    "from scipy.stats import expon\n",
    "from scipy.stats import uniform\n",
    "from scipy.stats import randint"
   ]
  },
  {
   "cell_type": "markdown",
   "metadata": {},
   "source": [
    "<hr>"
   ]
  },
  {
   "cell_type": "markdown",
   "metadata": {},
   "source": [
    "## Ejercicio 1"
   ]
  },
  {
   "cell_type": "markdown",
   "metadata": {},
   "source": [
    "####  File Utils"
   ]
  },
  {
   "cell_type": "code",
   "execution_count": 2,
   "metadata": {},
   "outputs": [],
   "source": [
    "def read_file(folder, filename):\n",
    "    filepath = os.path.join(folder, filename)\n",
    "    file = open(filepath, 'r')\n",
    "    page = file.read()\n",
    "    return page"
   ]
  },
  {
   "cell_type": "code",
   "execution_count": 3,
   "metadata": {},
   "outputs": [],
   "source": [
    "link_regex = '<a href=\\\"http://(.*?).html'"
   ]
  },
  {
   "cell_type": "markdown",
   "metadata": {},
   "source": [
    "#### Page Rank"
   ]
  },
  {
   "cell_type": "code",
   "execution_count": 4,
   "metadata": {},
   "outputs": [],
   "source": [
    "def open_pages(folder):\n",
    "    filenames = os.listdir(folder)\n",
    "    page_names = list(map(lambda filename: filename.split('.')[0], filenames))\n",
    "    pages = []\n",
    "    for filename in filenames:        \n",
    "        page = read_file(folder, filename)\n",
    "        pages.append(page)\n",
    "    return (pages, page_names)\n",
    "\n",
    "def markov_row(page, page_names):\n",
    "    # n pages\n",
    "    n = len(page_names)\n",
    "    \n",
    "    # search links in the page\n",
    "    matchs = re.findall(link_regex, page)\n",
    "    \n",
    "    # build adjacency\n",
    "    row = []\n",
    "    if len(matchs) == 0:\n",
    "        row = [1/n, 1/n, 1/n, 1/n, 1/n, 1/n]\n",
    "    else:\n",
    "        for page_name in page_names:\n",
    "            n_matchs = 0\n",
    "            for match in matchs:\n",
    "                if page_name == match:\n",
    "                    n_matchs += 1\n",
    "            row.append(n_matchs / len(matchs))\n",
    "    \n",
    "    return row\n",
    "\n",
    "def markov_matrix(pages, page_names):\n",
    "    matrix = np.zeros(shape=(len(page_names), len(page_names)))\n",
    "    for index, page in enumerate(pages):\n",
    "        row = markov_row(page, page_names)\n",
    "        matrix[index] = row\n",
    "    return matrix\n",
    "\n",
    "def distribucion_estacionaria(A):\n",
    "    A = [1,0,0,0,0,0]\n",
    "    for i in range(1000):\n",
    "        A = np.dot(A,matrix)\n",
    "    return A"
   ]
  },
  {
   "cell_type": "markdown",
   "metadata": {},
   "source": [
    "#### Run"
   ]
  },
  {
   "cell_type": "code",
   "execution_count": 5,
   "metadata": {},
   "outputs": [
    {
     "name": "stdout",
     "output_type": "stream",
     "text": [
      "Markov Matrix\n",
      "\n",
      "[[0.16666667 0.16666667 0.16666667 0.16666667 0.16666667 0.16666667]\n",
      " [0.         0.         0.66666667 0.         0.33333333 0.        ]\n",
      " [0.         0.5        0.         0.         0.5        0.        ]\n",
      " [0.         0.         0.         0.         0.         1.        ]\n",
      " [0.25       0.         0.5        0.         0.         0.25      ]\n",
      " [0.16666667 0.16666667 0.16666667 0.16666667 0.16666667 0.16666667]]\n",
      "\n",
      "\n",
      "Page Rank\n",
      "\n",
      "jenniferanist \t 0.10204081632653045\n",
      "jonvoight \t 0.18367346938775478\n",
      "angelinajolie \t 0.2857142857142853\n",
      "robertdeniro \t 0.04081632653061218\n",
      "bradpitt \t 0.24489795918367308\n",
      "martinscorces \t 0.14285714285714263\n"
     ]
    },
    {
     "data": {
      "text/plain": [
       "[('angelinajolie', 0.2857142857142853),\n",
       " ('bradpitt', 0.24489795918367308),\n",
       " ('jonvoight', 0.18367346938775478),\n",
       " ('martinscorcese', 0.14285714285714263),\n",
       " ('jenniferaniston', 0.10204081632653045),\n",
       " ('robertdeniro', 0.04081632653061218)]"
      ]
     },
     "execution_count": 5,
     "metadata": {},
     "output_type": "execute_result"
    }
   ],
   "source": [
    "folder = 'paginas'\n",
    "pages, page_names = open_pages(folder)\n",
    "matrix = markov_matrix(pages, page_names)\n",
    "\n",
    "print(\"Markov Matrix\\n\")\n",
    "print(matrix)\n",
    "print(\"\\n\")\n",
    "\n",
    "page_rank = distribucion_estacionaria(matrix)\n",
    "print(\"Page Rank\\n\")\n",
    "aux = dict()\n",
    "\n",
    "for i in range(len(page_names)):\n",
    "    aux[page_names[i]]=page_rank[i]\n",
    "    print(page_names[i][:13],\"\\t\",page_rank[i])\n",
    "page_rank = aux\n",
    "\n",
    "# Sort key\n",
    "def value_getter(item):\n",
    "     return item[1]\n",
    "\n",
    "sorted(aux.items(), key=value_getter,reverse=True)"
   ]
  },
  {
   "cell_type": "code",
   "execution_count": 6,
   "metadata": {},
   "outputs": [
    {
     "name": "stdout",
     "output_type": "stream",
     "text": [
      "[('martinscorcese', 3.071428571428571), ('angelinajolie', 1.6428571428571426), ('bradpitt', 1.6224489795918364), ('jonvoight', 0.5918367346938774), ('jenniferaniston', 0.5510204081632653), ('robertdeniro', 0.5204081632653061)]\n",
      "[('jenniferaniston', 0), ('jonvoight', 0), ('angelinajolie', 0), ('robertdeniro', 0), ('bradpitt', 0), ('martinscorcese', 0)]\n",
      "[('jonvoight', 2.0918367346938775), ('robertdeniro', 1.5204081632653061), ('bradpitt', 1.1224489795918364), ('martinscorcese', 1.0714285714285714), ('angelinajolie', 0.6428571428571427), ('jenniferaniston', 0)]\n"
     ]
    }
   ],
   "source": [
    "import string\n",
    "folder = 'paginas'\n",
    "filenames = os.listdir(folder)\n",
    "\n",
    "indexes=dict()\n",
    "for filename in filenames: \n",
    "    \n",
    "    filepath = os.path.join(folder, filename)\n",
    "\n",
    "    text = open(filepath, 'r')\n",
    "\n",
    "    # Create an empty dictionary\n",
    "    d = dict()\n",
    "    # Loop through each line of the file\n",
    "    for line in text:\n",
    "        # Remove the leading spaces and newline character\n",
    "        line = line.strip()\n",
    "\n",
    "        # Convert the characters in line to\n",
    "        # lowercase to avoid case mismatch\n",
    "        line = line.lower()\n",
    "\n",
    "        # Remove the punctuation marks from the line\n",
    "        line = line.translate(line.maketrans(\"\", \"\", string.punctuation))\n",
    "\n",
    "        # Split the line into words\n",
    "        words = line.split(\" \")\n",
    "\n",
    "        # Iterate over each word in line\n",
    "        for word in words:\n",
    "            # Check if the word is already in dictionary\n",
    "            if word in d:\n",
    "                # Increment count of word by 1\n",
    "                d[word] = d[word] + 1\n",
    "            else:\n",
    "                # Add the word to dictionary with count 1\n",
    "                d[word] = 1\n",
    "\n",
    "                \n",
    "    indexes[filename.split('.')[0]] = d\n",
    "\n",
    "def calculate_scores(word):\n",
    "    scores=dict()\n",
    "    for key in list(indexes.keys()):\n",
    "        if indexes[key].get(word) is None:\n",
    "            # si no encuentra la palabra directamente le pone puntaje 0\n",
    "            scores[key] = 0\n",
    "        else:\n",
    "            # ponderacion basica entre \n",
    "            scores[key]=0.5* indexes[key].get(word) + 0.5*page_rank[key]\n",
    "    return sorted(scores.items(), key=lambda item: item[1],reverse=True)\n",
    "\n",
    "scores=calculate_scores(\"film\")\n",
    "print(scores)\n",
    "\n",
    "scores=calculate_scores(\"action\")\n",
    "print(scores)\n",
    "\n",
    "scores=calculate_scores(\"actor\")\n",
    "print(scores)"
   ]
  },
  {
   "cell_type": "markdown",
   "metadata": {},
   "source": [
    "<hr>"
   ]
  },
  {
   "cell_type": "markdown",
   "metadata": {},
   "source": [
    "## Ejercicio 3"
   ]
  },
  {
   "cell_type": "markdown",
   "metadata": {},
   "source": [
    "<b>Web Service</b>. El cual consulta una <b>Base de Datos</b>."
   ]
  },
  {
   "cell_type": "markdown",
   "metadata": {},
   "source": [
    "Dos opciones: <br>\n",
    "a) Utilizar dos bases de datos => <b>M/M/2</b> (dos canales de atencion) <br>\n",
    "b) Utilizar una base de datos => <b>M/M/1</b> (un canal de atencion) <br>"
   ]
  },
  {
   "cell_type": "markdown",
   "metadata": {},
   "source": [
    "Para ambos casos el tiempo entre arribos es 4 segundos:"
   ]
  },
  {
   "cell_type": "markdown",
   "metadata": {},
   "source": [
    "$$\n",
    "\\lambda = \\frac{1}{4}\n",
    "$$"
   ]
  },
  {
   "cell_type": "markdown",
   "metadata": {},
   "source": [
    "b)"
   ]
  },
  {
   "cell_type": "markdown",
   "metadata": {},
   "source": [
    "Tiempo de servicio es 0.8 segundos, esta es la tasa de servicio."
   ]
  },
  {
   "cell_type": "markdown",
   "metadata": {},
   "source": [
    "$$\n",
    "\\mu = 0.8\n",
    "$$"
   ]
  },
  {
   "cell_type": "code",
   "execution_count": 108,
   "metadata": {},
   "outputs": [],
   "source": [
    "class Request:\n",
    "    def __init__(self, id, timestamp):\n",
    "        self.id = id\n",
    "        self.timestamp = timestamp\n",
    "\n",
    "class WebService:\n",
    "    n = 100000\n",
    "    \n",
    "    request_id = 0\n",
    "    requests = []\n",
    "    \n",
    "    media_request = 4\n",
    "    media_procesamiento = 0.8\n",
    "    \n",
    "    n_requests = 0\n",
    "    n_procesadas = 0\n",
    "    \n",
    "    n_request_sin_procesar = 0\n",
    "    \n",
    "    total_elapsed = 0\n",
    "\n",
    "    def __init__(self, env):\n",
    "        self.env = env\n",
    "        \n",
    "    def get_media(self):\n",
    "        return self.total_elapsed / self.n_procesadas\n",
    "        \n",
    "    def generador_requests(self):\n",
    "        while self.n_procesadas < self.n:\n",
    "            \n",
    "            self.n_requests += 1\n",
    "            self.n_request_sin_procesar += 1\n",
    "            \n",
    "            request = Request(self.n_requests, self.env.now)\n",
    "            self.requests.append(request)\n",
    "            \n",
    "            #print(\"proceso de requests | media: {} | n requess: {} | requests sin procesar: {}\".format(self.media_request, self.n_requests, self.n_request_sin_procesar))\n",
    "            \n",
    "            tiempo = random.exponential(self.media_request)\n",
    "            yield self.env.timeout(tiempo)\n",
    "    \n",
    "    def generador_procesamiento(self):\n",
    "        while self.n_procesadas < self.n:\n",
    "            if self.n_request_sin_procesar > 0:\n",
    "       \n",
    "                request = self.requests.pop()\n",
    "                elapsed = self.env.now - request.timestamp\n",
    "                self.total_elapsed += elapsed\n",
    "                \n",
    "                self.n_procesadas += 1\n",
    "                self.n_request_sin_procesar -= 1\n",
    "                \n",
    "                #print(\"proceso de procesamiento | media: {} | n procesadas: {} | requests sin procesar: {}\".format(self.media_procesamiento, self.n_procesadas, self.n_request_sin_procesar))\n",
    "                \n",
    "            tiempo = random.exponential(self.media_procesamiento)\n",
    "            yield self.env.timeout(tiempo)"
   ]
  },
  {
   "cell_type": "code",
   "execution_count": 109,
   "metadata": {},
   "outputs": [],
   "source": [
    "env = simpy.Environment()\n",
    "web_service = WebService(env)\n",
    "env.process(web_service.generador_requests())\n",
    "env.process(web_service.generador_procesamiento())\n",
    "env.run()"
   ]
  },
  {
   "cell_type": "markdown",
   "metadata": {},
   "source": [
    "Tiempo medio de espera entre que la solicitud llega y puede ser procesada."
   ]
  },
  {
   "cell_type": "code",
   "execution_count": 110,
   "metadata": {},
   "outputs": [
    {
     "data": {
      "text/plain": [
       "0.9992571420158677"
      ]
     },
     "execution_count": 110,
     "metadata": {},
     "output_type": "execute_result"
    }
   ],
   "source": [
    "web_service.get_media()"
   ]
  },
  {
   "cell_type": "code",
   "execution_count": 111,
   "metadata": {},
   "outputs": [],
   "source": [
    "def media_teorica(mu, lambda_):\n",
    "    return 1/(mu - lambda_)"
   ]
  },
  {
   "cell_type": "code",
   "execution_count": 112,
   "metadata": {},
   "outputs": [
    {
     "data": {
      "text/plain": [
       "1.0"
      ]
     },
     "execution_count": 112,
     "metadata": {},
     "output_type": "execute_result"
    }
   ],
   "source": [
    "media_teorica(1/0.8, 1/4)"
   ]
  },
  {
   "cell_type": "markdown",
   "metadata": {},
   "source": [
    "## Ejercicio 4"
   ]
  },
  {
   "cell_type": "code",
   "execution_count": 11,
   "metadata": {},
   "outputs": [],
   "source": [
    "CAP_MAX = 2000 # capacidad máxima de billetes\n",
    "\n",
    "MEDIA_ARRIVO = 10 # media de la dist exp de tpo entre arrivo (10min)\n",
    "LAMBDA_ARRIVO = 1 / MEDIA_ARRIVO\n",
    "\n",
    "PROB_RET = 0.75 # probabilidad de que el cliente retire\n",
    "MEDIA_RET = 1.5 # media de la dist exp de tpo de retiro (90s = 1.5min)\n",
    "LAMBDA_RET = 1 / MEDIA_RET\n",
    "MIN_RET = 3 # cant min de billetes que retira\n",
    "MAX_RET = 50 # cant max de billetes que retira\n",
    "\n",
    "MEDIA_DEP = 5 # media de la dist exp de tpo de deposito (5min)\n",
    "LAMBDA_DEP = 1 / MEDIA_DEP\n",
    "MIN_DEP = 10 # cant min de billetes que deposita\n",
    "MAX_DEP = 110 # cant max de billetes que deposita\n",
    "\n",
    "DIAS_SIM = 1000\n",
    "MINUTOS_DIA = 24 * 60\n",
    "TPO_SIM = DIAS_SIM * MINUTOS_DIA # tiempo de simulación (1000 dias)"
   ]
  },
  {
   "cell_type": "code",
   "execution_count": 12,
   "metadata": {},
   "outputs": [],
   "source": [
    "# Definimos la simulación\n",
    "#\n",
    "# Referencias y materiales:\n",
    "# - https://simpy.readthedocs.io/en/latest/simpy_intro/index.html\n",
    "# - https://docs.scipy.org/doc/scipy/reference/generated/scipy.stats.expon.html\n",
    "# - https://docs.scipy.org/doc/scipy/reference/generated/scipy.stats.uniform.html#scipy.stats.uniform\n",
    "# - https://docs.scipy.org/doc/scipy/reference/generated/scipy.stats.randint.html\n",
    "# - https://towardsdatascience.com/introduction-to-simulation-with-simpy-322606d4ba0c\n",
    "# - https://simpy.readthedocs.io/en/latest/topical_guides/resources.html#containers\n",
    "\n",
    "def operar(env, atm, nro_cl, media_op, cantidad, condicion, operacion):\n",
    "    global caja, tot_abandonos, txs\n",
    "    with atm.request() as req:\n",
    "        tpo_entra_queue = env.now\n",
    "        yield req;\n",
    "        tpo_sale_queue = env.now\n",
    "        tpo_espera = tpo_sale_queue - tpo_entra_queue\n",
    "\n",
    "        tpo_op = expon.rvs(scale=media_op, size=1)[0]\n",
    "\n",
    "        if condicion(caja, cantidad):\n",
    "            caja = operacion(caja, cantidad)\n",
    "            yield env.timeout(tpo_op)\n",
    "\n",
    "            txs = np.vstack((txs, [caja, env.now, floor(env.now // MINUTOS_DIA)]))\n",
    "        else:\n",
    "            # no se da la condición para poder operar, abandona\n",
    "            tot_abandonos += 1\n",
    "\n",
    "        tpos_en_sist.append(tpo_espera + tpo_op)\n",
    "\n",
    "def ret(env, atm, nro_cl):\n",
    "    cantidad = randint.rvs(MIN_RET, MAX_RET, size=1)[0]\n",
    "    condicion = lambda caja, cant: caja - cant >= 0\n",
    "    operacion = lambda caja, cant: caja - cant\n",
    "    return operar(env, atm, nro_cl, MEDIA_RET, cantidad, condicion, operacion)\n",
    "    \n",
    "def dep(env, atm, nro_cl):\n",
    "    cantidad = randint.rvs(MIN_DEP, MAX_DEP, size=1)[0]\n",
    "    condicion = lambda caja, cant: caja + cant < CAP_MAX\n",
    "    operacion = lambda caja, cant: caja + cant\n",
    "    return operar(env, atm, nro_cl, MEDIA_DEP, cantidad, condicion, operacion)\n",
    "\n",
    "def arrivos_clientes(env, atm):\n",
    "    global caja, tot_arrivos\n",
    "    caja = CAP_MAX\n",
    "\n",
    "    nro_cl = 0\n",
    "    while True:\n",
    "        # generamos un tpo de arrivo exponencial\n",
    "        tpo_arrivo = expon.rvs(scale=MEDIA_ARRIVO, size=1)[0]\n",
    "        yield env.timeout(tpo_arrivo)\n",
    "        nro_cl += 1\n",
    "\n",
    "        retira_dinero = uniform.rvs() < PROB_RET\n",
    "\n",
    "        if retira_dinero:\n",
    "            env.process(ret(env, atm, nro_cl))\n",
    "        else:\n",
    "            env.process(dep(env, atm, nro_cl))\n",
    "    \n",
    "        tot_arrivos = nro_cl"
   ]
  },
  {
   "cell_type": "code",
   "execution_count": 13,
   "metadata": {},
   "outputs": [],
   "source": [
    "# a. simulación\n",
    "\n",
    "# no uso Container de simpy porque las operaciones put/get no se ajustan al modelo\n",
    "# y está garantizado que solo se usa un cajero, por lo que el recurso actua de lock\n",
    "caja = CAP_MAX\n",
    "\n",
    "# columnas: [monto de caja al finalizar tx; tpo al finalizar tx; dia de la tx]\n",
    "COL_CAJA = 0\n",
    "COL_FIN_TX = 1\n",
    "COL_DIA_TX = 2\n",
    "txs = np.empty((1, 3))\n",
    "\n",
    "# tpos_en_sist contempla también el tiempo de aquellos que abandonan al no poder operar\n",
    "tpos_en_sist = []\n",
    "\n",
    "tot_abandonos = 0\n",
    "tot_arrivos = 0\n",
    "\n",
    "env = simpy.Environment()\n",
    "atm = simpy.Resource(env, capacity=1)\n",
    "env.process(arrivos_clientes(env, atm))\n",
    "env.run(until=TPO_SIM)"
   ]
  },
  {
   "cell_type": "code",
   "execution_count": 14,
   "metadata": {},
   "outputs": [
    {
     "data": {
      "image/png": "[encoded data removed]",
      "text/plain": [
       "<Figure size 640x480 with 1 Axes>"
      ]
     },
     "metadata": {},
     "output_type": "display_data"
    }
   ],
   "source": [
    "# b. Graficamos para un día particular, indexado desde 0\n",
    "# https://stackoverflow.com/a/58079385\n",
    "DIA = 54\n",
    "txs_dia = txs[txs[:,COL_DIA_TX] == DIA, :]\n",
    "\n",
    "plt.step(txs_dia[:,COL_FIN_TX] % MINUTOS_DIA, txs_dia[:,COL_CAJA])\n",
    "plt.xlabel('Tiempo (minutos del dia %d)' % DIA)\n",
    "plt.ylabel('Caja')\n",
    "plt.title('Variación de caja en día %d' % DIA)\n",
    "plt.show()"
   ]
  },
  {
   "cell_type": "code",
   "execution_count": 18,
   "metadata": {},
   "outputs": [
    {
     "data": {
      "image/png": "[encoded data removed]",
      "text/plain": [
       "<Figure size 640x480 with 1 Axes>"
      ]
     },
     "metadata": {},
     "output_type": "display_data"
    }
   ],
   "source": [
    "# también es de interés ver el comportamiento en los primeros dias\n",
    "# graficamos para los primeros 5 (0 a 4)\n",
    "DIA_MAX = 5\n",
    "txs_dia = txs[txs[:,COL_DIA_TX] < DIA_MAX, :]\n",
    "\n",
    "plt.step(txs_dia[:,COL_FIN_TX], txs_dia[:,COL_CAJA])\n",
    "plt.xlabel('Tiempo (minutos desde t=0)')\n",
    "plt.ylabel('Caja')\n",
    "plt.title('Variación de caja en los primeros %d dias' % DIA_MAX)\n",
    "plt.show()"
   ]
  },
  {
   "cell_type": "code",
   "execution_count": 16,
   "metadata": {},
   "outputs": [
    {
     "name": "stdout",
     "output_type": "stream",
     "text": [
      "El tiempo promedio en el sistema (espera + uso de cajero) es de 3.37 minutos\n"
     ]
    }
   ],
   "source": [
    "# c. tpo medio en el sistema\n",
    "avg = np.average(np.array(tpos_en_sist))\n",
    "avg_str = str(round(avg, 2))\n",
    "print('El tiempo promedio en el sistema (espera + uso de cajero) es de %s minutos' % avg_str)"
   ]
  },
  {
   "cell_type": "code",
   "execution_count": 17,
   "metadata": {},
   "outputs": [
    {
     "name": "stdout",
     "output_type": "stream",
     "text": [
      "La simulación resulta en una tasa de abandonos del 14.6%. En consecuencia se sugiere la implementación del cambio\n"
     ]
    }
   ],
   "source": [
    "# d. recomendación a la entidad\n",
    "UMBRAL_TASA_ABANDONOS = 0.2\n",
    "tasa_abandonos = tot_abandonos / tot_arrivos\n",
    "tasa_abandonos_str = str(round(tasa_abandonos * 100, 2))\n",
    "\n",
    "if tasa_abandonos < UMBRAL_TASA_ABANDONOS:\n",
    "    print('La simulación resulta en una tasa de abandonos del %s%%. En consecuencia se sugiere la implementación del cambio' % tasa_abandonos_str)\n",
    "else:\n",
    "    print('La simulación resulta en una tasa de abandonos del %s%%. En consecuencia no se recomienda la implementación del cambio' % tasa_abandonos_str)"
   ]
  },
  {
   "cell_type": "markdown",
   "metadata": {},
   "source": [
    "Nota: en casi todas las simulaciones realizadas se obtuvo resultados entre 13% y 15% de tasa de abandono, que es una mejora respecto al 20% inicial."
   ]
  }
 ],
 "metadata": {
  "kernelspec": {
   "display_name": "Python 3",
   "language": "python",
   "name": "python3"
  },
  "language_info": {
   "codemirror_mode": {
    "name": "ipython",
    "version": 3
   },
   "file_extension": ".py",
   "mimetype": "text/x-python",
   "name": "python",
   "nbconvert_exporter": "python",
   "pygments_lexer": "ipython3",
   "version": "3.7.6"
  }
 },
 "nbformat": 4,
 "nbformat_minor": 5
}
