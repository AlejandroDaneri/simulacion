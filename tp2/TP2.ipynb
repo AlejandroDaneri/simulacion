{
 "cells": [
  {
   "cell_type": "markdown",
   "id": "137b276d",
   "metadata": {},
   "source": [
    "#### Import Libs"
   ]
  },
  {
   "cell_type": "code",
   "execution_count": 1,
   "id": "65abc443",
   "metadata": {},
   "outputs": [],
   "source": [
    "import os\n",
    "import re\n",
    "import numpy as np\n",
    "import simpy\n",
    "import time\n",
    "from numpy import random\n",
    "from math import floor\n",
    "from matplotlib import pyplot as plt\n",
    "from scipy.stats import expon\n",
    "from scipy.stats import uniform\n",
    "from scipy.stats import randint"
   ]
  },
  {
   "cell_type": "markdown",
   "id": "ae0fc661",
   "metadata": {},
   "source": [
    "<hr>"
   ]
  },
  {
   "cell_type": "markdown",
   "id": "74ac71ad",
   "metadata": {},
   "source": [
    "## Ejercicio 1"
   ]
  },
  {
   "cell_type": "markdown",
   "id": "9ff97e15",
   "metadata": {},
   "source": [
    "####  File Utils"
   ]
  },
  {
   "cell_type": "code",
   "execution_count": 2,
   "id": "1bb0e7be",
   "metadata": {},
   "outputs": [],
   "source": [
    "def read_file(folder, filename):\n",
    "    filepath = os.path.join(folder, filename)\n",
    "    file = open(filepath, 'r')\n",
    "    page = file.read()\n",
    "    return page"
   ]
  },
  {
   "cell_type": "code",
   "execution_count": 3,
   "id": "bc89d98d",
   "metadata": {},
   "outputs": [],
   "source": [
    "link_regex = '<a href=\\\"http://(.*?).html'"
   ]
  },
  {
   "cell_type": "markdown",
   "id": "acd6c47b",
   "metadata": {},
   "source": [
    "#### Page Rank"
   ]
  },
  {
   "cell_type": "code",
   "execution_count": 4,
   "id": "e7af9e8f",
   "metadata": {},
   "outputs": [],
   "source": [
    "def open_pages(folder):\n",
    "    filenames = os.listdir(folder)\n",
    "    page_names = list(map(lambda filename: filename.split('.')[0], filenames))\n",
    "    pages = []\n",
    "    for filename in filenames:        \n",
    "        page = read_file(folder, filename)\n",
    "        pages.append(page)\n",
    "    return (pages, page_names)\n",
    "\n",
    "def markov_row(page, page_names):\n",
    "    # n pages\n",
    "    n = len(page_names)\n",
    "    \n",
    "    # search links in the page\n",
    "    matchs = re.findall(link_regex, page)\n",
    "    \n",
    "    # build adjacency\n",
    "    row = []\n",
    "    if len(matchs) == 0:\n",
    "        row = [1/n, 1/n, 1/n, 1/n, 1/n, 1/n]\n",
    "    else:\n",
    "        for page_name in page_names:\n",
    "            n_matchs = 0\n",
    "            for match in matchs:\n",
    "                if page_name == match:\n",
    "                    n_matchs += 1\n",
    "            row.append(n_matchs / len(matchs))\n",
    "    \n",
    "    return row\n",
    "\n",
    "def markov_matrix(pages, page_names):\n",
    "    matrix = np.zeros(shape=(len(page_names), len(page_names)))\n",
    "    for index, page in enumerate(pages):\n",
    "        row = markov_row(page, page_names)\n",
    "        matrix[index] = row\n",
    "    return matrix\n",
    "\n",
    "def distribucion_estacionaria(A):\n",
    "    A = [1,0,0,0,0,0]\n",
    "    for i in range(1000):\n",
    "        A = np.dot(A,matrix)\n",
    "    return A"
   ]
  },
  {
   "cell_type": "markdown",
   "id": "064dab18",
   "metadata": {},
   "source": [
    "#### Run"
   ]
  },
  {
   "cell_type": "code",
   "execution_count": 6,
   "id": "dd062aa2",
   "metadata": {},
   "outputs": [
    {
     "name": "stdout",
     "output_type": "stream",
     "text": [
      "[('martinscorcese', 3.071428571428571), ('angelinajolie', 1.6428571428571426), ('bradpitt', 1.6224489795918364), ('jonvoight', 0.5918367346938773), ('jenniferaniston', 0.5510204081632651), ('robertdeniro', 0.520408163265306)]\n",
      "[('robertdeniro', 0), ('jenniferaniston', 0), ('martinscorcese', 0), ('jonvoight', 0), ('angelinajolie', 0), ('bradpitt', 0)]\n",
      "[('jonvoight', 2.0918367346938775), ('robertdeniro', 1.5204081632653061), ('bradpitt', 1.1224489795918364), ('martinscorcese', 1.0714285714285712), ('angelinajolie', 0.6428571428571426), ('jenniferaniston', 0)]\n"
     ]
    }
   ],
   "source": [
    "import string\n",
    "folder = 'paginas'\n",
    "filenames = os.listdir(folder)\n",
    "\n",
    "indexes=dict()\n",
    "for filename in filenames: \n",
    "    \n",
    "    filepath = os.path.join(folder, filename)\n",
    "\n",
    "    text = open(filepath, 'r')\n",
    "\n",
    "    # Create an empty dictionary\n",
    "    d = dict()\n",
    "    # Loop through each line of the file\n",
    "    for line in text:\n",
    "        # Remove the leading spaces and newline character\n",
    "        line = line.strip()\n",
    "\n",
    "        # Convert the characters in line to\n",
    "        # lowercase to avoid case mismatch\n",
    "        line = line.lower()\n",
    "\n",
    "        # Remove the punctuation marks from the line\n",
    "        line = line.translate(line.maketrans(\"\", \"\", string.punctuation))\n",
    "\n",
    "        # Split the line into words\n",
    "        words = line.split(\" \")\n",
    "\n",
    "        # Iterate over each word in line\n",
    "        for word in words:\n",
    "            # Check if the word is already in dictionary\n",
    "            if word in d:\n",
    "                # Increment count of word by 1\n",
    "                d[word] = d[word] + 1\n",
    "            else:\n",
    "                # Add the word to dictionary with count 1\n",
    "                d[word] = 1\n",
    "\n",
    "                \n",
    "    indexes[filename.split('.')[0]] = d\n",
    "\n",
    "def calculate_scores(word):\n",
    "    scores=dict()\n",
    "    for key in list(indexes.keys()):\n",
    "        if indexes[key].get(word) is None:\n",
    "            # si no encuentra la palabra directamente le pone puntaje 0\n",
    "            scores[key] = 0\n",
    "        else:\n",
    "            # ponderacion basica entre \n",
    "            scores[key]=0.5* indexes[key].get(word) + 0.5*page_rank[key]\n",
    "    return sorted(scores.items(), key=lambda item: item[1],reverse=True)\n",
    "\n",
    "scores=calculate_scores(\"film\")\n",
    "print(scores)\n",
    "\n",
    "scores=calculate_scores(\"action\")\n",
    "print(scores)\n",
    "\n",
    "scores=calculate_scores(\"actor\")\n",
    "print(scores)"
   ]
  },
  {
   "cell_type": "code",
   "execution_count": 5,
   "id": "314f9878",
   "metadata": {},
   "outputs": [
    {
     "name": "stdout",
     "output_type": "stream",
     "text": [
      "Markov Matrix\n",
      "\n",
      "[[0.         0.         1.         0.         0.         0.        ]\n",
      " [0.16666667 0.16666667 0.16666667 0.16666667 0.16666667 0.16666667]\n",
      " [0.16666667 0.16666667 0.16666667 0.16666667 0.16666667 0.16666667]\n",
      " [0.         0.         0.         0.         0.66666667 0.33333333]\n",
      " [0.         0.         0.         0.5        0.         0.5       ]\n",
      " [0.         0.25       0.25       0.         0.5        0.        ]]\n",
      "\n",
      "\n",
      "Page Rank\n",
      "\n",
      "robertdeniro \t 0.040816326530612144\n",
      "jenniferanist \t 0.10204081632653036\n",
      "martinscorces \t 0.14285714285714252\n",
      "jonvoight \t 0.18367346938775467\n",
      "angelinajolie \t 0.28571428571428503\n",
      "bradpitt \t 0.24489795918367288\n"
     ]
    },
    {
     "data": {
      "text/plain": [
       "[('angelinajolie', 0.28571428571428503),\n",
       " ('bradpitt', 0.24489795918367288),\n",
       " ('jonvoight', 0.18367346938775467),\n",
       " ('martinscorcese', 0.14285714285714252),\n",
       " ('jenniferaniston', 0.10204081632653036),\n",
       " ('robertdeniro', 0.040816326530612144)]"
      ]
     },
     "execution_count": 5,
     "metadata": {},
     "output_type": "execute_result"
    }
   ],
   "source": [
    "folder = 'paginas'\n",
    "pages, page_names = open_pages(folder)\n",
    "matrix = markov_matrix(pages, page_names)\n",
    "\n",
    "print(\"Markov Matrix\\n\")\n",
    "print(matrix)\n",
    "print(\"\\n\")\n",
    "\n",
    "page_rank = distribucion_estacionaria(matrix)\n",
    "print(\"Page Rank\\n\")\n",
    "aux = dict()\n",
    "\n",
    "for i in range(len(page_names)):\n",
    "    aux[page_names[i]]=page_rank[i]\n",
    "    print(page_names[i][:13],\"\\t\",page_rank[i])\n",
    "page_rank = aux\n",
    "\n",
    "# Sort key\n",
    "def value_getter(item):\n",
    "     return item[1]\n",
    "\n",
    "sorted(aux.items(), key=value_getter,reverse=True)"
   ]
  },
  {
   "cell_type": "markdown",
   "id": "460e292c",
   "metadata": {},
   "source": [
    "$\\begin{bmatrix}    0 & 0 & 1 & 0 & 0 & 0\\\\    1/5 & 1/5 & 1/5 & 1/5 & 1/5 & 1/5 \\\\  1/5 & 1/5 & 1/5 & 1/5 & 1/5 & 1/5 \\\\   0 & 0 & 0 & 0 & 2/3 & 1/3 \\\\ 0 & 0 & 0 & 1/2 & 0 & 1/2 \\\\ 0 & 1/4 & 1/4 & 0 & 1/2 & 0 \\\\ \\end{bmatrix}$"
   ]
  },
  {
   "cell_type": "markdown",
   "id": "dc085314",
   "metadata": {},
   "source": [
    "## Ejercicio 3"
   ]
  },
  {
   "cell_type": "markdown",
   "id": "2b18c1e7",
   "metadata": {},
   "source": [
    "<b>Web Service</b>. El cual consulta una <b>Base de Datos</b>."
   ]
  },
  {
   "cell_type": "markdown",
   "id": "4ec846ad",
   "metadata": {},
   "source": [
    "</b>Requests</b> siguen una distribucion exponencial de media 4."
   ]
  },
  {
   "cell_type": "markdown",
   "id": "1b62a64e",
   "metadata": {},
   "source": [
    "$$\n",
    "\\mu = 4\n",
    "$$"
   ]
  },
  {
   "cell_type": "markdown",
   "id": "949189a1",
   "metadata": {},
   "source": [
    "Dos opciones: <br>\n",
    "a) Utilizar dos bases de datos => <b>M/M/2</b> (dos canales de atencion) <br>\n",
    "b) Utilizar una base de datos => <b>M/M/1</b> (un canal de atencion) <br>"
   ]
  },
  {
   "cell_type": "code",
   "execution_count": 57,
   "id": "d595a54a",
   "metadata": {},
   "outputs": [],
   "source": [
    "n = 100000\n",
    "\n",
    "class Request:\n",
    "    def __init__(self, timestamp):\n",
    "        self.start_timestamp = timestamp\n",
    "        \n",
    "    def set_procesada(self, timestamp):\n",
    "        self.end_timestamp = timestamp\n",
    "\n",
    "class Requests:\n",
    "    count_empty = 0\n",
    "    \n",
    "    def __init__(self, env, media, requests, requests_procesadas):\n",
    "        self.env = env\n",
    "        self.media = media\n",
    "        self.requests = requests\n",
    "        self.requests_procesadas = requests_procesadas\n",
    "\n",
    "    def run(self):\n",
    "        while len(self.requests_procesadas) < n:\n",
    "            if len(self.requests) == 0:\n",
    "                self.count_empty += 1\n",
    "            request = Request(self.env.now)\n",
    "            self.requests.append(request)\n",
    "            tiempo = random.exponential(self.media)\n",
    "            yield self.env.timeout(tiempo)\n",
    "             \n",
    "class BaseDeDatos():\n",
    "    def __init__(self, env, media, requests, requests_procesadas):\n",
    "        self.env = env\n",
    "        self.media = media\n",
    "        self.requests = requests\n",
    "        self.requests_procesadas = requests_procesadas\n",
    "    \n",
    "    def run(self):\n",
    "        while len(self.requests_procesadas) < n:\n",
    "            if len(self.requests) > 0:\n",
    "                request = self.requests.pop()\n",
    "                request.set_procesada(self.env.now)\n",
    "                self.requests_procesadas.append(request)\n",
    "            tiempo = random.exponential(self.media)\n",
    "            yield self.env.timeout(tiempo)\n",
    "\n",
    "class WebService:\n",
    "\n",
    "    # Requests\n",
    "    requests = []\n",
    "    requests_procesadas = []\n",
    "    \n",
    "    # Procesos\n",
    "    proceso_requests = None\n",
    "    procesos_base_de_datos = []\n",
    "    \n",
    "    # Medias\n",
    "    media_request = None\n",
    "    medias_base_de_datos = []\n",
    "\n",
    "    def __init__(self, media_request, medias_base_de_datos):\n",
    "        self.env = simpy.Environment()\n",
    "        self.media_requests = media_request\n",
    "        self.medias_base_de_datos = medias_base_de_datos\n",
    "        \n",
    "    def run(self): \n",
    "        # Proceso Requets\n",
    "        self.proceso_requests = Requests(self.env, self.media_requests, self.requests, self.requests_procesadas)\n",
    "        self.env.process(self.proceso_requests.run())\n",
    "        \n",
    "        # Proceso Base de Datos\n",
    "        for media in self.medias_base_de_datos:\n",
    "            proceso_base_de_datos = BaseDeDatos(self.env, media, self.requests, self.requests_procesadas)\n",
    "            self.env.process(proceso_base_de_datos.run())\n",
    "            self.procesos_base_de_datos.append(proceso_base_de_datos)\n",
    "        \n",
    "        self.env.run()\n",
    "        \n",
    "    def get_media(self):\n",
    "        duracion_total = 0\n",
    "        for request in self.requests_procesadas:\n",
    "            duracion = request.end_timestamp - request.start_timestamp \n",
    "            duracion_total += duracion\n",
    "        return duracion_total / len(self.requests_procesadas)"
   ]
  },
  {
   "cell_type": "markdown",
   "id": "f3d834b8",
   "metadata": {},
   "source": [
    "### Dos Canales"
   ]
  },
  {
   "cell_type": "markdown",
   "id": "1e87aa8f",
   "metadata": {},
   "source": [
    "Canal 1:"
   ]
  },
  {
   "cell_type": "markdown",
   "id": "e2141f82",
   "metadata": {},
   "source": [
    "$$\n",
    "\\mu_1= 0.7\n",
    "$$"
   ]
  },
  {
   "cell_type": "markdown",
   "id": "ee7aa782",
   "metadata": {},
   "source": [
    "Canal 2:"
   ]
  },
  {
   "cell_type": "markdown",
   "id": "7605ee47",
   "metadata": {},
   "source": [
    "$$\n",
    "\\mu_2 = 1\n",
    "$$"
   ]
  },
  {
   "cell_type": "code",
   "execution_count": 58,
   "id": "9dfe6605",
   "metadata": {},
   "outputs": [],
   "source": [
    "media_requests = 4\n",
    "media_base_de_datos_1 = 1\n",
    "media_base_de_datos_2 = 1/0.3\n",
    "web_service = WebService(media_requests, [media_base_de_datos_1, media_base_de_datos_2])\n",
    "web_service.run()"
   ]
  },
  {
   "cell_type": "code",
   "execution_count": 59,
   "id": "5994f43e",
   "metadata": {},
   "outputs": [
    {
     "data": {
      "text/plain": [
       "0.956059120758693"
      ]
     },
     "execution_count": 59,
     "metadata": {},
     "output_type": "execute_result"
    }
   ],
   "source": [
    "web_service.get_media()"
   ]
  },
  {
   "cell_type": "markdown",
   "id": "3c98d154",
   "metadata": {},
   "source": [
    "### Un Canal"
   ]
  },
  {
   "cell_type": "markdown",
   "id": "75d3c820",
   "metadata": {},
   "source": [
    "Tiempo de servicio es 0.8 segundos, esta es la tasa de servicio."
   ]
  },
  {
   "cell_type": "markdown",
   "id": "b45ed8fc",
   "metadata": {},
   "source": [
    "Unico Canal:"
   ]
  },
  {
   "cell_type": "markdown",
   "id": "1dd7f1a8",
   "metadata": {},
   "source": [
    "$$\n",
    "\\mu = 0.8\n",
    "$$"
   ]
  },
  {
   "cell_type": "code",
   "execution_count": 30,
   "id": "fc87337b",
   "metadata": {},
   "outputs": [],
   "source": [
    "media_requests = 4\n",
    "media_base_de_datos = 0.8\n",
    "web_service = WebService(media_requests, [media_base_de_datos])\n",
    "web_service.run()"
   ]
  },
  {
   "cell_type": "markdown",
   "id": "3fba66d7",
   "metadata": {},
   "source": [
    "### Tiempo medio"
   ]
  },
  {
   "cell_type": "markdown",
   "id": "7f9a778e",
   "metadata": {},
   "source": [
    "#### Simulacion"
   ]
  },
  {
   "cell_type": "code",
   "execution_count": 31,
   "id": "ea5805c1",
   "metadata": {},
   "outputs": [
    {
     "data": {
      "text/plain": [
       "0.9951420309966112"
      ]
     },
     "execution_count": 31,
     "metadata": {},
     "output_type": "execute_result"
    }
   ],
   "source": [
    "web_service.get_media()"
   ]
  },
  {
   "cell_type": "markdown",
   "id": "c765b200",
   "metadata": {},
   "source": [
    "#### Teorico"
   ]
  },
  {
   "cell_type": "code",
   "execution_count": 28,
   "id": "2091ba15",
   "metadata": {},
   "outputs": [],
   "source": [
    "def media_teorica(mu, lambda_):\n",
    "    return 1/(mu - lambda_)"
   ]
  },
  {
   "cell_type": "code",
   "execution_count": 29,
   "id": "ab991314",
   "metadata": {},
   "outputs": [
    {
     "data": {
      "text/plain": [
       "1.0"
      ]
     },
     "execution_count": 29,
     "metadata": {},
     "output_type": "execute_result"
    }
   ],
   "source": [
    "lambda_ = 1/media_requests\n",
    "mu = 1/media_base_de_datos\n",
    "\n",
    "media_teorica(mu, lambda_)"
   ]
  },
  {
   "cell_type": "markdown",
   "id": "79be75da",
   "metadata": {},
   "source": [
    "### Fracion que no esperaron"
   ]
  },
  {
   "cell_type": "code",
   "execution_count": null,
   "id": "bf01d5a8",
   "metadata": {},
   "outputs": [],
   "source": [
    "web_service.count_empty / web_service.n"
   ]
  },
  {
   "cell_type": "markdown",
   "id": "2a71d65c",
   "metadata": {},
   "source": [
    "### Distintos escenarios"
   ]
  },
  {
   "cell_type": "code",
   "execution_count": null,
   "id": "cca6ed0b",
   "metadata": {},
   "outputs": [],
   "source": [
    "media_requests = 5\n",
    "media_procesamiento = 10\n",
    "\n",
    "env = simpy.Environment()\n",
    "web_service = WebService(env, media_requests, media_procesamiento)\n",
    "env.process(web_service.generador_requests())\n",
    "env.process(web_service.generador_procesamiento())\n",
    "env.run()\n",
    "\n",
    "print(\"media simulada: {}\".format(web_service.get_media()))\n",
    "\n",
    "mu = 1/media_procesamiento\n",
    "lambda_ = 1/media_requests\n",
    "\n",
    "print(\"media teorica: {}\".format(media_teorica(mu, lambda_)))"
   ]
  },
  {
   "cell_type": "markdown",
   "id": "5d198998",
   "metadata": {},
   "source": [
    "## Ejercicio 4"
   ]
  },
  {
   "cell_type": "code",
   "execution_count": null,
   "id": "1e2288cb",
   "metadata": {},
   "outputs": [],
   "source": [
    "CAP_MAX = 2000 # capacidad máxima de billetes\n",
    "\n",
    "MEDIA_ARRIVO = 10 # media de la dist exp de tpo entre arrivo (10min)\n",
    "LAMBDA_ARRIVO = 1 / MEDIA_ARRIVO\n",
    "\n",
    "PROB_RET = 0.75 # probabilidad de que el cliente retire\n",
    "MEDIA_RET = 1.5 # media de la dist exp de tpo de retiro (90s = 1.5min)\n",
    "LAMBDA_RET = 1 / MEDIA_RET\n",
    "MIN_RET = 3 # cant min de billetes que retira\n",
    "MAX_RET = 50 # cant max de billetes que retira\n",
    "\n",
    "MEDIA_DEP = 5 # media de la dist exp de tpo de deposito (5min)\n",
    "LAMBDA_DEP = 1 / MEDIA_DEP\n",
    "MIN_DEP = 10 # cant min de billetes que deposita\n",
    "MAX_DEP = 110 # cant max de billetes que deposita\n",
    "\n",
    "DIAS_SIM = 1000\n",
    "MINUTOS_DIA = 24 * 60\n",
    "TPO_SIM = DIAS_SIM * MINUTOS_DIA # tiempo de simulación (1000 dias)"
   ]
  },
  {
   "cell_type": "code",
   "execution_count": null,
   "id": "ce510f9c",
   "metadata": {},
   "outputs": [],
   "source": [
    "# Definimos la simulación\n",
    "#\n",
    "# Referencias y materiales:\n",
    "# - https://simpy.readthedocs.io/en/latest/simpy_intro/index.html\n",
    "# - https://docs.scipy.org/doc/scipy/reference/generated/scipy.stats.expon.html\n",
    "# - https://docs.scipy.org/doc/scipy/reference/generated/scipy.stats.uniform.html#scipy.stats.uniform\n",
    "# - https://docs.scipy.org/doc/scipy/reference/generated/scipy.stats.randint.html\n",
    "# - https://towardsdatascience.com/introduction-to-simulation-with-simpy-322606d4ba0c\n",
    "# - https://simpy.readthedocs.io/en/latest/topical_guides/resources.html#containers\n",
    "\n",
    "def operar(env, atm, nro_cl, media_op, cantidad, condicion, operacion):\n",
    "    global caja, tot_abandonos, txs\n",
    "    with atm.request() as req:\n",
    "        tpo_entra_queue = env.now\n",
    "        yield req;\n",
    "        tpo_sale_queue = env.now\n",
    "        tpo_espera = tpo_sale_queue - tpo_entra_queue\n",
    "\n",
    "        tpo_op = expon.rvs(scale=media_op, size=1)[0]\n",
    "\n",
    "        if condicion(caja, cantidad):\n",
    "            caja = operacion(caja, cantidad)\n",
    "            yield env.timeout(tpo_op)\n",
    "\n",
    "            txs = np.vstack((txs, [caja, env.now, floor(env.now // MINUTOS_DIA)]))\n",
    "        else:\n",
    "            # no se da la condición para poder operar, abandona\n",
    "            tot_abandonos += 1\n",
    "\n",
    "        tpos_en_sist.append(tpo_espera + tpo_op)\n",
    "\n",
    "def ret(env, atm, nro_cl):\n",
    "    cantidad = randint.rvs(MIN_RET, MAX_RET, size=1)[0]\n",
    "    condicion = lambda caja, cant: caja - cant >= 0\n",
    "    operacion = lambda caja, cant: caja - cant\n",
    "    return operar(env, atm, nro_cl, MEDIA_RET, cantidad, condicion, operacion)\n",
    "    \n",
    "def dep(env, atm, nro_cl):\n",
    "    cantidad = randint.rvs(MIN_DEP, MAX_DEP, size=1)[0]\n",
    "    condicion = lambda caja, cant: caja + cant < CAP_MAX\n",
    "    operacion = lambda caja, cant: caja + cant\n",
    "    return operar(env, atm, nro_cl, MEDIA_DEP, cantidad, condicion, operacion)\n",
    "\n",
    "def arrivos_clientes(env, atm):\n",
    "    global caja, tot_arrivos\n",
    "    caja = CAP_MAX\n",
    "\n",
    "    nro_cl = 0\n",
    "    while True:\n",
    "        # generamos un tpo de arrivo exponencial\n",
    "        tpo_arrivo = expon.rvs(scale=MEDIA_ARRIVO, size=1)[0]\n",
    "        yield env.timeout(tpo_arrivo)\n",
    "        nro_cl += 1\n",
    "\n",
    "        retira_dinero = uniform.rvs() < PROB_RET\n",
    "\n",
    "        if retira_dinero:\n",
    "            env.process(ret(env, atm, nro_cl))\n",
    "        else:\n",
    "            env.process(dep(env, atm, nro_cl))\n",
    "    \n",
    "        tot_arrivos = nro_cl"
   ]
  },
  {
   "cell_type": "code",
   "execution_count": null,
   "id": "7ff50f5a",
   "metadata": {},
   "outputs": [],
   "source": [
    "# a. simulación\n",
    "\n",
    "# no uso Container de simpy porque las operaciones put/get no se ajustan al modelo\n",
    "# y está garantizado que solo se usa un cajero, por lo que el recurso actua de lock\n",
    "caja = CAP_MAX\n",
    "\n",
    "# columnas: [monto de caja al finalizar tx; tpo al finalizar tx; dia de la tx]\n",
    "COL_CAJA = 0\n",
    "COL_FIN_TX = 1\n",
    "COL_DIA_TX = 2\n",
    "txs = np.empty((1, 3))\n",
    "\n",
    "# tpos_en_sist contempla también el tiempo de aquellos que abandonan al no poder operar\n",
    "tpos_en_sist = []\n",
    "\n",
    "tot_abandonos = 0\n",
    "tot_arrivos = 0\n",
    "\n",
    "env = simpy.Environment()\n",
    "atm = simpy.Resource(env, capacity=1)\n",
    "env.process(arrivos_clientes(env, atm))\n",
    "env.run(until=TPO_SIM)"
   ]
  },
  {
   "cell_type": "code",
   "execution_count": null,
   "id": "5d23b5dc",
   "metadata": {},
   "outputs": [],
   "source": [
    "# b. Graficamos para un día particular, indexado desde 0\n",
    "# https://stackoverflow.com/a/58079385\n",
    "DIA = 54\n",
    "txs_dia = txs[txs[:,COL_DIA_TX] == DIA, :]\n",
    "\n",
    "plt.step(txs_dia[:,COL_FIN_TX] % MINUTOS_DIA, txs_dia[:,COL_CAJA])\n",
    "plt.xlabel('Tiempo (minutos del dia %d)' % DIA)\n",
    "plt.ylabel('Caja')\n",
    "plt.title('Variación de caja en día %d' % DIA)\n",
    "plt.show()"
   ]
  },
  {
   "cell_type": "code",
   "execution_count": null,
   "id": "f9e559ee",
   "metadata": {},
   "outputs": [],
   "source": [
    "# también es de interés ver el comportamiento en los primeros dias\n",
    "# graficamos para los primeros 5 (0 a 4)\n",
    "DIA_MAX = 5\n",
    "txs_dia = txs[txs[:,COL_DIA_TX] < DIA_MAX, :]\n",
    "\n",
    "plt.step(txs_dia[:,COL_FIN_TX], txs_dia[:,COL_CAJA])\n",
    "plt.xlabel('Tiempo (minutos desde t=0)')\n",
    "plt.ylabel('Caja')\n",
    "plt.title('Variación de caja en los primeros %d dias' % DIA_MAX)\n",
    "plt.show()"
   ]
  },
  {
   "cell_type": "code",
   "execution_count": null,
   "id": "808e36ca",
   "metadata": {},
   "outputs": [],
   "source": [
    "# c. tpo medio en el sistema\n",
    "avg = np.average(np.array(tpos_en_sist))\n",
    "avg_str = str(round(avg, 2))\n",
    "print('El tiempo promedio en el sistema (espera + uso de cajero) es de %s minutos' % avg_str)"
   ]
  },
  {
   "cell_type": "code",
   "execution_count": null,
   "id": "b19dd6b0",
   "metadata": {},
   "outputs": [],
   "source": [
    "# d. recomendación a la entidad\n",
    "UMBRAL_TASA_ABANDONOS = 0.2\n",
    "tasa_abandonos = tot_abandonos / tot_arrivos\n",
    "tasa_abandonos_str = str(round(tasa_abandonos * 100, 2))\n",
    "\n",
    "if tasa_abandonos < UMBRAL_TASA_ABANDONOS:\n",
    "    print('La simulación resulta en una tasa de abandonos del %s%%. En consecuencia se sugiere la implementación del cambio' % tasa_abandonos_str)\n",
    "else:\n",
    "    print('La simulación resulta en una tasa de abandonos del %s%%. En consecuencia no se recomienda la implementación del cambio' % tasa_abandonos_str)"
   ]
  },
  {
   "cell_type": "markdown",
   "id": "11235dc3",
   "metadata": {},
   "source": [
    "Nota: en casi todas las simulaciones realizadas se obtuvo resultados entre 13% y 15% de tasa de abandono, que es una mejora respecto al 20% inicial."
   ]
  }
 ],
 "metadata": {
  "kernelspec": {
   "display_name": "Python 3 (ipykernel)",
   "language": "python",
   "name": "python3"
  },
  "language_info": {
   "codemirror_mode": {
    "name": "ipython",
    "version": 3
   },
   "file_extension": ".py",
   "mimetype": "text/x-python",
   "name": "python",
   "nbconvert_exporter": "python",
   "pygments_lexer": "ipython3",
   "version": "3.10.6"
  }
 },
 "nbformat": 4,
 "nbformat_minor": 5
}
