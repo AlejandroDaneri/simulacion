{
 "cells": [
  {
   "cell_type": "code",
   "execution_count": 19,
   "id": "e6b46858",
   "metadata": {},
   "outputs": [
    {
     "name": "stdout",
     "output_type": "stream",
     "text": [
      "[[0, 0.5, 0, 0.5, 0, 0], [0.25, 0, 0.25, 0, 0.25, 0], [0.16666666666666666, 0.16666666666666666, 0.16666666666666666, 0.16666666666666666, 0.16666666666666666, 0.16666666666666666], [0, 0, 0, 0, 1.0, 0], [0.16666666666666666, 0.16666666666666666, 0.16666666666666666, 0.16666666666666666, 0.16666666666666666, 0.16666666666666666], [0.3333333333333333, 0.3333333333333333, 0, 0, 0, 0]]\n"
     ]
    }
   ],
   "source": [
    "import os\n",
    "import re\n",
    "\n",
    "matrix=[]\n",
    "\n",
    "pages_names = ['angelinajolie', 'bradpitt', 'jenniferaniston', 'jonvoight','martinscorcese','robertdeniro']\n",
    "\n",
    "your_path = 'paginas'\n",
    "files = os.listdir(your_path)\n",
    "for file in files:\n",
    "    if os.path.isfile(os.path.join(your_path, file)):\n",
    "        row = []\n",
    "        \n",
    "        f = open(os.path.join(your_path, file),'r')\n",
    "        test_str = f.read()\n",
    "\n",
    "        # printing original string\n",
    "        # print(\"The original string is : \" + str(test_str))\n",
    "\n",
    "        # initializing tag\n",
    "        begin_tag = \"<a href=\\\"http://\"\n",
    "        end_tag=\".html\"\n",
    "\n",
    "        # regex to extract required strings\n",
    "        reg_str = begin_tag + \"(.*?)\" + end_tag \n",
    "        res = re.findall(reg_str, test_str)\n",
    "        \n",
    "       \n",
    "        # printing result\n",
    "        #print(\"The Strings extracted : \" + str(res))\n",
    "        \n",
    "        prob= 1/6 if len(res)==0 else 1/len(res) ## 6 pages\n",
    "        \n",
    "        for name in pages_names:\n",
    "            if name in res:\n",
    "                row.append(prob)\n",
    "            else:\n",
    "                row.append(0)\n",
    "        \n",
    "        if sum(row)==0:\n",
    "            row = [1/6,1/6,1/6,1/6,1/6,1/6]\n",
    "        \n",
    "        matrix.append(row)\n",
    "            \n",
    "print(matrix)\n",
    "\n",
    "  \n"
   ]
  },
  {
   "cell_type": "code",
   "execution_count": null,
   "id": "b2b5c7aa",
   "metadata": {},
   "outputs": [],
   "source": []
  }
 ],
 "metadata": {
  "kernelspec": {
   "display_name": "Python 3 (ipykernel)",
   "language": "python",
   "name": "python3"
  },
  "language_info": {
   "codemirror_mode": {
    "name": "ipython",
    "version": 3
   },
   "file_extension": ".py",
   "mimetype": "text/x-python",
   "name": "python",
   "nbconvert_exporter": "python",
   "pygments_lexer": "ipython3",
   "version": "3.9.12"
  }
 },
 "nbformat": 4,
 "nbformat_minor": 5
}
